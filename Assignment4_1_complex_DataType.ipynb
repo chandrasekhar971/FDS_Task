{
 "cells": [
  {
   "cell_type": "markdown",
   "id": "ee99685c-1a75-41a3-bd69-9cfdcd132df1",
   "metadata": {},
   "source": [
    "## COMPLEX DATA TYPE"
   ]
  },
  {
   "cell_type": "raw",
   "id": "7820524d-4291-4334-91ac-a15d5482fa21",
   "metadata": {},
   "source": [
    "In Python, the complex type is used to represent complex numbers, which consist of a real and an imaginary part.\n",
    "You can create complex numbers and perform mathematical operations on them using the built-in support for complex numbers.\n",
    "Creating a Complex Number\n",
    "A complex number is created by appending the letter j (or J) to the imaginary part."
   ]
  },
  {
   "cell_type": "code",
   "execution_count": 42,
   "id": "87666fb1-9666-4d4a-9091-0dc3de8dda93",
   "metadata": {},
   "outputs": [
    {
     "ename": "SyntaxError",
     "evalue": "invalid syntax (1287579959.py, line 1)",
     "output_type": "error",
     "traceback": [
      "\u001b[1;36m  Cell \u001b[1;32mIn[42], line 1\u001b[1;36m\u001b[0m\n\u001b[1;33m    z = real + imaginary 1*j\u001b[0m\n\u001b[1;37m                         ^\u001b[0m\n\u001b[1;31mSyntaxError\u001b[0m\u001b[1;31m:\u001b[0m invalid syntax\n"
     ]
    }
   ],
   "source": [
    "z = real + imaginary 1*j"
   ]
  },
  {
   "cell_type": "code",
   "execution_count": 6,
   "id": "795f5d4f-021a-4d3b-8237-a80fe4e416d1",
   "metadata": {},
   "outputs": [
    {
     "data": {
      "text/plain": [
       "(3+2j)"
      ]
     },
     "execution_count": 6,
     "metadata": {},
     "output_type": "execute_result"
    }
   ],
   "source": [
    "z = 3+2j\n",
    "z"
   ]
  },
  {
   "cell_type": "raw",
   "id": "2ab87ee1-d718-4220-9aa8-57a51b657a72",
   "metadata": {},
   "source": [
    "Here, 3 is the real part, and 4j is the imaginary part.\n",
    "Accessing the Real and Imaginary Parts\n",
    "You can access the real and imaginary parts of a complex number using the .real and .imag"
   ]
  },
  {
   "cell_type": "code",
   "execution_count": 10,
   "id": "97039705-607a-4874-98c7-6dd6d78cc1b4",
   "metadata": {},
   "outputs": [
    {
     "name": "stdout",
     "output_type": "stream",
     "text": [
      "3.0\n",
      "2.0\n"
     ]
    }
   ],
   "source": [
    "z = 3 + 2j\n",
    "print(z.real)\n",
    "print(z.imag)"
   ]
  },
  {
   "cell_type": "raw",
   "id": "e89a71ed-bd63-4cfe-b13a-a4ab0fa04130",
   "metadata": {},
   "source": [
    "Operations with Complex Numbers\n",
    "You can perform various operations like addition, subtraction, multiplication, division, and more with complex numbers. \n",
    "Python handles these operations automatically."
   ]
  },
  {
   "cell_type": "code",
   "execution_count": 12,
   "id": "e22711a7-dc16-4f78-983e-4e4ba0ac3cd2",
   "metadata": {},
   "outputs": [
    {
     "name": "stdout",
     "output_type": "stream",
     "text": [
      "(7+6j)\n",
      "(-1-2j)\n",
      "(4+20j)\n",
      "(0.625-0.125j)\n"
     ]
    }
   ],
   "source": [
    "A = 3+2j\n",
    "B = 4+4j\n",
    "\n",
    "#addition\n",
    "print(A+B)\n",
    "\n",
    "#subtraction\n",
    "print(A-B)\n",
    "\n",
    "#multiplication\n",
    "print(A*B)\n",
    "\n",
    "#Division\n",
    "print(A/B)"
   ]
  },
  {
   "cell_type": "raw",
   "id": "64859506-fff9-4115-aef3-b001458736dc",
   "metadata": {},
   "source": [
    "Using Built-in Functions:\n",
    "-------------------------\n",
    "Python provides several functions to work with complex numbers, such as:\n",
    "    abs(z): Returns the magnitude (absolute value) of the complex number.\n",
    "    conj(z): Returns the complex conjugate of the number."
   ]
  },
  {
   "cell_type": "code",
   "execution_count": 34,
   "id": "d0d3cabb-406a-4d11-9b40-abebf36eb217",
   "metadata": {},
   "outputs": [
    {
     "name": "stdout",
     "output_type": "stream",
     "text": [
      "5.0\n",
      "(3-4j)\n"
     ]
    }
   ],
   "source": [
    "z = 3+4j\n",
    "print(abs(z))\n",
    "print(z.conjugate())"
   ]
  },
  {
   "cell_type": "raw",
   "id": "3c80093f-a5cc-417e-8587-5e65ae144a29",
   "metadata": {},
   "source": [
    "Complex Number in the cmath Module\n",
    "The cmath module provides additional functionality for complex numbers, such as trigonometric functions, logarithms, \n",
    "and square roots."
   ]
  },
  {
   "cell_type": "code",
   "execution_count": 40,
   "id": "740baf84-b6ea-43fa-b228-2f74e6d48c91",
   "metadata": {},
   "outputs": [
    {
     "name": "stdout",
     "output_type": "stream",
     "text": [
      "0.982793723247329\n",
      "(3.605551275463989, 0.982793723247329)\n",
      "(1.6741492280355401+0.8959774761298381j)\n"
     ]
    }
   ],
   "source": [
    "import cmath\n",
    "z = 2+3j\n",
    "\n",
    "#getting the phase(angle in radians) of the complex number\n",
    "print(cmath.phase(z))\n",
    "\n",
    "#getting the polar form of the complex number(magnitude, angle)\n",
    "print(cmath.polar(z))\n",
    "\n",
    "#getting the squareRoot of complex number\n",
    "print(cmath.sqrt(z))"
   ]
  },
  {
   "cell_type": "raw",
   "id": "c8bf8281-3e98-41bb-9503-9c91651e8941",
   "metadata": {},
   "source": [
    "Complex numbers are written with j or J for the imaginary part.\n",
    "You can perform basic arithmetic operations on complex numbers.\n",
    "You can access the real and imaginary parts using .real and .imag.\n",
    "The cmath module offers additional functions for complex numbers"
   ]
  },
  {
   "cell_type": "code",
   "execution_count": null,
   "id": "a66e939a-4901-4129-ba1a-3498d8b32c91",
   "metadata": {},
   "outputs": [],
   "source": []
  },
  {
   "cell_type": "code",
   "execution_count": null,
   "id": "8971cd48-0cae-44e1-a442-107b9b1f7d83",
   "metadata": {},
   "outputs": [],
   "source": []
  }
 ],
 "metadata": {
  "kernelspec": {
   "display_name": "Python [conda env:base] *",
   "language": "python",
   "name": "conda-base-py"
  },
  "language_info": {
   "codemirror_mode": {
    "name": "ipython",
    "version": 3
   },
   "file_extension": ".py",
   "mimetype": "text/x-python",
   "name": "python",
   "nbconvert_exporter": "python",
   "pygments_lexer": "ipython3",
   "version": "3.12.3"
  }
 },
 "nbformat": 4,
 "nbformat_minor": 5
}

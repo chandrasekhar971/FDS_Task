{
 "cells": [
  {
   "cell_type": "markdown",
   "id": "6fb1e085-14ae-441f-afde-0e359ac68758",
   "metadata": {},
   "source": [
    "Python Identifier:\n",
    "------------------\n",
    "<h4> <pre> --> an identifier is the name used to identify variables, functions, classes, modules, or other objects. \n",
    "    --> It allows you to refer to a specific element in your program. \n",
    "      --> Identifiers help in defining and using various elements in the code. </pre></h4>"
   ]
  },
  {
   "cell_type": "markdown",
   "id": "a6976fe3-7aae-4d3b-84b3-e245044c5461",
   "metadata": {},
   "source": [
    "Rules for Writing Identifiers:\n",
    "-----------------------------\n",
    "<pre>\n",
    "1.Alphabet and Digits: An identifier can be a combination of letters (A-Z or a-z), digits (0-9), \n",
    "and underscore (_).\n",
    "\n",
    "Examples: my_var, student1, _hiddenValue\n",
    "          age3, _score\n",
    "\n",
    "2.Cannot Start with a Digit: An identifier cannot begin with a number\n",
    "\n",
    " Examples: 3age, 1st_student\n",
    "\n",
    "3. No Special Characters: Identifiers cannot contain special characters like @, #, !, $, etc.\n",
    "\n",
    " Correct: name, student_age\n",
    " Incorrect: name@, student#1\n",
    "\n",
    "3. Case Sensitivity: Python identifiers are case-sensitive. \n",
    " For example, Var and var are treated as different identifiers.\n",
    " Example:\n",
    " var = 5\n",
    " print(Var)  #error\n",
    "\n",
    "4. Keywords: Keywords (reserved words) in Python cannot be used as identifiers.\n",
    " Example of Python keywords: if, else, while, for, True, False, etc.\n",
    "\n",
    "5. Underscore (_) Usage:\n",
    "An identifier can start with an underscore, which often has special meanings:\n",
    "\n",
    "● Single Leading Underscore (_var): Used to indicate that an identifier is intended \n",
    "for internal use (convention, not enforced). We will learn this in detail \n",
    "while studying classes and objects.\n",
    " \n",
    "● Double Leading Underscore (__var): Used for name-mangling in classes \n",
    "to avoid conflicts in inheritance. We will learn this in detail while studying inheritance.\n",
    " \n",
    "● Double Leading and Trailing Underscore (__init__): Reserved for special methods in Python, \n",
    "often referred to as “magic methods.” \n",
    "For e.g. __init_(), __repr__(), __del__(). We will learn them in detail in course.\n",
    "\n",
    "</pre>"
   ]
  },
  {
   "cell_type": "code",
   "execution_count": 33,
   "id": "fd8e8f8b-a88b-48fe-8150-c65df18d22cd",
   "metadata": {},
   "outputs": [],
   "source": [
    "# 1.An identifier can be a combination of letters (A-Z or a-z), digits (0-9) and underscore (_).\n",
    "\n",
    "age = ''"
   ]
  },
  {
   "cell_type": "code",
   "execution_count": 19,
   "id": "55e20f09-8ad8-4069-9ccc-c4cb814926c6",
   "metadata": {},
   "outputs": [],
   "source": [
    "age3 = ''"
   ]
  },
  {
   "cell_type": "code",
   "execution_count": 23,
   "id": "6b81a790-0678-4ada-9982-1898115686b3",
   "metadata": {},
   "outputs": [],
   "source": [
    "_score = ''"
   ]
  },
  {
   "cell_type": "code",
   "execution_count": 25,
   "id": "aef4bb88-6257-44bc-88be-1e75e5dc4191",
   "metadata": {},
   "outputs": [],
   "source": [
    "Age3 = ''"
   ]
  },
  {
   "cell_type": "code",
   "execution_count": 27,
   "id": "dc651142-cda4-4e75-a9ce-ec880246f50a",
   "metadata": {},
   "outputs": [],
   "source": [
    "className = ''"
   ]
  },
  {
   "cell_type": "code",
   "execution_count": 31,
   "id": "d8d102ea-a25e-40b9-9c35-3b3e1a444347",
   "metadata": {},
   "outputs": [],
   "source": [
    "pin123c = ''"
   ]
  },
  {
   "cell_type": "code",
   "execution_count": null,
   "id": "dc8a9e79-b525-4bae-8df9-478aef449486",
   "metadata": {},
   "outputs": [],
   "source": [
    "pincode_12346 = ''"
   ]
  },
  {
   "cell_type": "code",
   "execution_count": 41,
   "id": "798befb8-e946-4fcc-bf26-7c8ede3ccfca",
   "metadata": {},
   "outputs": [
    {
     "ename": "SyntaxError",
     "evalue": "invalid decimal literal (2109585881.py, line 3)",
     "output_type": "error",
     "traceback": [
      "\u001b[1;36m  Cell \u001b[1;32mIn[41], line 3\u001b[1;36m\u001b[0m\n\u001b[1;33m    3age = ''\u001b[0m\n\u001b[1;37m    ^\u001b[0m\n\u001b[1;31mSyntaxError\u001b[0m\u001b[1;31m:\u001b[0m invalid decimal literal\n"
     ]
    }
   ],
   "source": [
    "# 2.Cannot Start with a Digit or number\n",
    " \n",
    "3age = '' \n"
   ]
  },
  {
   "cell_type": "code",
   "execution_count": 39,
   "id": "4320ab4b-9d7c-4e5e-8516-da03170f40b2",
   "metadata": {},
   "outputs": [
    {
     "ename": "SyntaxError",
     "evalue": "invalid decimal literal (2626882795.py, line 1)",
     "output_type": "error",
     "traceback": [
      "\u001b[1;36m  Cell \u001b[1;32mIn[39], line 1\u001b[1;36m\u001b[0m\n\u001b[1;33m    1st_student = ''\u001b[0m\n\u001b[1;37m    ^\u001b[0m\n\u001b[1;31mSyntaxError\u001b[0m\u001b[1;31m:\u001b[0m invalid decimal literal\n"
     ]
    }
   ],
   "source": [
    "1st_student = ''"
   ]
  },
  {
   "cell_type": "code",
   "execution_count": 43,
   "id": "f559e958-9ee4-44f4-960c-610c0c7d3ef9",
   "metadata": {},
   "outputs": [
    {
     "ename": "NameError",
     "evalue": "name 'Var' is not defined",
     "output_type": "error",
     "traceback": [
      "\u001b[1;31m---------------------------------------------------------------------------\u001b[0m",
      "\u001b[1;31mNameError\u001b[0m                                 Traceback (most recent call last)",
      "Cell \u001b[1;32mIn[43], line 5\u001b[0m\n\u001b[0;32m      1\u001b[0m \u001b[38;5;66;03m# 3. Case Sensitivity: Python identifiers are case-sensitive. \u001b[39;00m\n\u001b[0;32m      2\u001b[0m \u001b[38;5;66;03m# --------------------\u001b[39;00m\n\u001b[0;32m      4\u001b[0m var \u001b[38;5;241m=\u001b[39m \u001b[38;5;241m5\u001b[39m\n\u001b[1;32m----> 5\u001b[0m \u001b[38;5;28mprint\u001b[39m(Var)\n",
      "\u001b[1;31mNameError\u001b[0m: name 'Var' is not defined"
     ]
    }
   ],
   "source": [
    "# 3.Python identifiers are case-sensitive. \n",
    "\n",
    "var = 5\n",
    "print(Var)"
   ]
  },
  {
   "cell_type": "code",
   "execution_count": 45,
   "id": "ba85ecfa-4bec-4f8c-a223-cdfb49bf4496",
   "metadata": {},
   "outputs": [
    {
     "name": "stdout",
     "output_type": "stream",
     "text": [
      "5\n"
     ]
    }
   ],
   "source": [
    "var = 5\n",
    "print(var)"
   ]
  },
  {
   "cell_type": "code",
   "execution_count": 47,
   "id": "04708696-cc5a-4298-901a-6bade0b40c92",
   "metadata": {},
   "outputs": [
    {
     "ename": "SyntaxError",
     "evalue": "invalid syntax (4056151839.py, line 4)",
     "output_type": "error",
     "traceback": [
      "\u001b[1;36m  Cell \u001b[1;32mIn[47], line 4\u001b[1;36m\u001b[0m\n\u001b[1;33m    for = ''\u001b[0m\n\u001b[1;37m        ^\u001b[0m\n\u001b[1;31mSyntaxError\u001b[0m\u001b[1;31m:\u001b[0m invalid syntax\n"
     ]
    }
   ],
   "source": [
    "# 4.Keywords (reserved words) cannot be used as identifiers.\n",
    "# Example of Python keywords: if, else, while, for, True, False, etc.\n",
    "\n",
    "for = ''\n"
   ]
  },
  {
   "cell_type": "code",
   "execution_count": 49,
   "id": "84f129f7-860a-4092-ae80-753a52787081",
   "metadata": {},
   "outputs": [
    {
     "ename": "SyntaxError",
     "evalue": "invalid syntax (852903885.py, line 1)",
     "output_type": "error",
     "traceback": [
      "\u001b[1;36m  Cell \u001b[1;32mIn[49], line 1\u001b[1;36m\u001b[0m\n\u001b[1;33m    if = ''\u001b[0m\n\u001b[1;37m       ^\u001b[0m\n\u001b[1;31mSyntaxError\u001b[0m\u001b[1;31m:\u001b[0m invalid syntax\n"
     ]
    }
   ],
   "source": [
    "if = ''"
   ]
  },
  {
   "cell_type": "code",
   "execution_count": 51,
   "id": "dbd812d8-a9a4-4828-995e-51d99cf34be1",
   "metadata": {},
   "outputs": [
    {
     "ename": "SyntaxError",
     "evalue": "invalid syntax (1498486158.py, line 1)",
     "output_type": "error",
     "traceback": [
      "\u001b[1;36m  Cell \u001b[1;32mIn[51], line 1\u001b[1;36m\u001b[0m\n\u001b[1;33m    else = ''\u001b[0m\n\u001b[1;37m    ^\u001b[0m\n\u001b[1;31mSyntaxError\u001b[0m\u001b[1;31m:\u001b[0m invalid syntax\n"
     ]
    }
   ],
   "source": [
    "else = ''"
   ]
  },
  {
   "cell_type": "code",
   "execution_count": 53,
   "id": "37311542-96e5-4bb4-876e-39ec0052c9e1",
   "metadata": {},
   "outputs": [
    {
     "ename": "SyntaxError",
     "evalue": "cannot assign to True (202482223.py, line 1)",
     "output_type": "error",
     "traceback": [
      "\u001b[1;36m  Cell \u001b[1;32mIn[53], line 1\u001b[1;36m\u001b[0m\n\u001b[1;33m    True = ''\u001b[0m\n\u001b[1;37m    ^\u001b[0m\n\u001b[1;31mSyntaxError\u001b[0m\u001b[1;31m:\u001b[0m cannot assign to True\n"
     ]
    }
   ],
   "source": [
    "True = ''"
   ]
  },
  {
   "cell_type": "code",
   "execution_count": 55,
   "id": "4259a200-3481-438f-918b-597c5ce0624f",
   "metadata": {},
   "outputs": [
    {
     "ename": "SyntaxError",
     "evalue": "cannot assign to False (2510557621.py, line 1)",
     "output_type": "error",
     "traceback": [
      "\u001b[1;36m  Cell \u001b[1;32mIn[55], line 1\u001b[1;36m\u001b[0m\n\u001b[1;33m    False = ''\u001b[0m\n\u001b[1;37m    ^\u001b[0m\n\u001b[1;31mSyntaxError\u001b[0m\u001b[1;31m:\u001b[0m cannot assign to False\n"
     ]
    }
   ],
   "source": [
    "False = ''"
   ]
  },
  {
   "cell_type": "code",
   "execution_count": 57,
   "id": "dbd3925a-968e-45fd-bcc8-fabff585707c",
   "metadata": {},
   "outputs": [
    {
     "ename": "SyntaxError",
     "evalue": "cannot assign to None (3416088020.py, line 1)",
     "output_type": "error",
     "traceback": [
      "\u001b[1;36m  Cell \u001b[1;32mIn[57], line 1\u001b[1;36m\u001b[0m\n\u001b[1;33m    None = ''\u001b[0m\n\u001b[1;37m    ^\u001b[0m\n\u001b[1;31mSyntaxError\u001b[0m\u001b[1;31m:\u001b[0m cannot assign to None\n"
     ]
    }
   ],
   "source": [
    "None = ''"
   ]
  },
  {
   "cell_type": "code",
   "execution_count": 59,
   "id": "fa9bc140-1dc9-485c-aa53-536685d1d6ea",
   "metadata": {},
   "outputs": [],
   "source": [
    "# 5.Underscore (_) Usage:\n",
    "\n",
    "# ● Single Leading Underscore (_var): Used to indicate that an identifier is intended for internal use (convention, not enforced). \n",
    "# ----------------------------------\n",
    "# We will learn this in detail while studying classes and objects.\n",
    "\n",
    "_var = ''\n"
   ]
  },
  {
   "cell_type": "code",
   "execution_count": 61,
   "id": "b2c76c6a-3b77-46aa-8199-0c0bd99d1bba",
   "metadata": {},
   "outputs": [],
   "source": [
    "# ● Double Leading Underscore (__var): Used for name-mangling in classes to avoid conflicts in inheritance. \n",
    "#   We will learn this in detail while studying inheritance.\n",
    "\n",
    "__var = ''"
   ]
  },
  {
   "cell_type": "code",
   "execution_count": null,
   "id": "224d35f4-2090-4a54-aa05-6bfc0e793b7c",
   "metadata": {},
   "outputs": [],
   "source": [
    "# ● Double Leading and Trailing Underscore (__init__): Reserved for special methods in Python, often referred to as “magic methods.” \n",
    "# For e.g. __init_(), __repr__(), __del__(). We will learn them in detail in course."
   ]
  },
  {
   "cell_type": "code",
   "execution_count": 77,
   "id": "c0546d06-c95c-4c17-b9ae-8983e5515c4a",
   "metadata": {},
   "outputs": [],
   "source": [
    " __init__ = ''"
   ]
  },
  {
   "cell_type": "code",
   "execution_count": null,
   "id": "594cbd72-2cf8-4ee4-953a-775122b99fd5",
   "metadata": {},
   "outputs": [],
   "source": []
  },
  {
   "cell_type": "markdown",
   "id": "065d3037-2065-4a69-87ea-7807ac944aad",
   "metadata": {},
   "source": [
    "Task 1. Create your bio using the proper data type and proper identifier with values."
   ]
  },
  {
   "cell_type": "code",
   "execution_count": 94,
   "id": "32842020-c5f7-45bc-b418-a72a4f10f2bb",
   "metadata": {},
   "outputs": [],
   "source": [
    "first_name = 'chandra'\n",
    "last_name = 'sekhar'\n",
    "country = 'HYD'\n",
    "city = 'TELENGANA'\n",
    "age = 24\n",
    "is_married = True\n",
    "skills = ['HTML', 'CSS', 'JS', 'React', 'Python']\n",
    "person_info = {\n",
    "    'firstname':'Asabeneh', \n",
    "    'lastname':'Yetayeh', \n",
    "    'country':'Finland',\n",
    "    'city':'Helsinki'\n",
    "    }"
   ]
  },
  {
   "cell_type": "markdown",
   "id": "d4ca8aad-b1a6-4c29-a9ff-3b5673c01487",
   "metadata": {},
   "source": [
    "<pre>\n",
    "Interview Questions:\n",
    "=================\n",
    "1. What is a type casting in Python?\n",
    "   A valid Python identifier starts with a letter or an underscore (_)  and can include letters, numbers, or underscores, \n",
    "   but cannot be a reserved keyword.\n",
    "\n",
    "2.What is unique identifier in Python?\n",
    "  A unique identifier is a name that distinctively refers to a variable, function, or class without conflict in a program.\n",
    "\n",
    "3.What is the difference between identifier and variable in Python?\n",
    "  An identifier is the name given to any entity (variable, function, or class), while a variable is a specific \n",
    "  storage location that holds a value.\n",
    "\n",
    "4.What is an identifier with an example?\n",
    "  An identifier is the name of a variable, function, or class. Example: user_name, x, age.\n",
    "\n",
    "5. What is an identifier and variable?\n",
    "   An identifier names an entity like a variable, function, or class. A variable is an identifier specifically \n",
    "   used to store data in a program.\n",
    "\n",
    "6.What is an identifier in Python example?\n",
    "  An example of an identifier in Python is my_variable, which serves as a name for storing or referencing a value.\n",
    "\n",
    "7. What is identification in Python?\n",
    "   Identification refers to naming program elements like variables, functions, or objects so they can be distinctly \n",
    "   recognized and used in the code.\n",
    "\n",
    "8. What is the naming convention in Python?\n",
    "   Use lowercase for variables and functions, underscores for readability, and CamelCase for class names. Avoid starting \n",
    "   with numbers or using Python keywords.\n",
    "\n",
    "9.What is the naming convention of identifiers in Python?\n",
    "Identifiers should be descriptive, lowercase or underscored and avoid reserved words. Example: total_count, calculate_sum.\n",
    "\n",
    "10.What is an example of a variable name in Python?\n",
    "   Example: age, height, user_name.\n",
    "\n",
    "</pre>"
   ]
  },
  {
   "cell_type": "markdown",
   "id": "6aee73f2-42a0-4e80-bffe-375babb31ebc",
   "metadata": {},
   "source": [
    "##### ***************************************  Thank you *************************************************************"
   ]
  }
 ],
 "metadata": {
  "kernelspec": {
   "display_name": "Python [conda env:base] *",
   "language": "python",
   "name": "conda-base-py"
  },
  "language_info": {
   "codemirror_mode": {
    "name": "ipython",
    "version": 3
   },
   "file_extension": ".py",
   "mimetype": "text/x-python",
   "name": "python",
   "nbconvert_exporter": "python",
   "pygments_lexer": "ipython3",
   "version": "3.12.3"
  }
 },
 "nbformat": 4,
 "nbformat_minor": 5
}

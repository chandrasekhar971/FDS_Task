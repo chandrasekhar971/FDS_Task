{
 "cells": [
  {
   "cell_type": "markdown",
   "id": "2c059e18-322c-4f94-a5d3-049a1a3fa6b7",
   "metadata": {},
   "source": [
    "## Print and operators"
   ]
  },
  {
   "cell_type": "code",
   "execution_count": 1,
   "id": "0aea4c08-6153-4113-951c-4c508932ae2c",
   "metadata": {},
   "outputs": [],
   "source": [
    "# print is use for answer"
   ]
  },
  {
   "cell_type": "code",
   "execution_count": 6,
   "id": "668b00e6-d2e9-4f7c-8201-f32e415fd783",
   "metadata": {},
   "outputs": [
    {
     "data": {
      "text/plain": [
       "20"
      ]
     },
     "execution_count": 6,
     "metadata": {},
     "output_type": "execute_result"
    }
   ],
   "source": [
    "a=10 \n",
    "b=20\n",
    "a \n",
    "b"
   ]
  },
  {
   "cell_type": "code",
   "execution_count": 8,
   "id": "4e7926cb-ac14-499a-b086-0341a2bcae3f",
   "metadata": {},
   "outputs": [
    {
     "name": "stdout",
     "output_type": "stream",
     "text": [
      "10\n",
      "20\n"
     ]
    }
   ],
   "source": [
    "a=10 \n",
    "b=20\n",
    "print(a) \n",
    "print(b)"
   ]
  },
  {
   "cell_type": "code",
   "execution_count": 10,
   "id": "b17f47e7-a852-4102-8fff-97103de96024",
   "metadata": {},
   "outputs": [
    {
     "name": "stdout",
     "output_type": "stream",
     "text": [
      "10\n",
      "10 20\n",
      "python\n",
      "10 20 python\n"
     ]
    }
   ],
   "source": [
    "print(10)\n",
    "print(10,20)\n",
    "print('python')\n",
    "print(10,20,'python')"
   ]
  },
  {
   "cell_type": "code",
   "execution_count": 14,
   "id": "410f5e98-2a9a-4aa8-9707-87c05308658f",
   "metadata": {},
   "outputs": [
    {
     "name": "stdout",
     "output_type": "stream",
     "text": [
      "50\n"
     ]
    }
   ],
   "source": [
    "num1=20 \n",
    "num2=30\n",
    "add=num1+num2 \n",
    "print(add)"
   ]
  },
  {
   "cell_type": "markdown",
   "id": "7f3afde8-ae6d-49eb-8695-8345009f3f88",
   "metadata": {},
   "source": [
    "## print result with string"
   ]
  },
  {
   "cell_type": "code",
   "execution_count": 17,
   "id": "d2b3eb9e-6ec1-4b62-8e16-78d3d81a01d4",
   "metadata": {},
   "outputs": [
    {
     "name": "stdout",
     "output_type": "stream",
     "text": [
      "The addition of 20 and 30 is= 50\n"
     ]
    }
   ],
   "source": [
    "num1=20 \n",
    "num2=30\n",
    "add=num1+num2\n",
    "print('The addition of',num1,'and',num2,'is=',add)"
   ]
  },
  {
   "cell_type": "code",
   "execution_count": 21,
   "id": "30eea2ac-fbc7-49f1-8710-4592fa8dbdc1",
   "metadata": {},
   "outputs": [],
   "source": [
    "name='Python' \n",
    "age=20\n",
    "city='hyd'\n",
    "#hellow my name is python and i am 10 year old from hydrabad"
   ]
  },
  {
   "cell_type": "code",
   "execution_count": 23,
   "id": "f82dfa00-7ec6-47c9-a9da-6428203b5004",
   "metadata": {},
   "outputs": [
    {
     "name": "stdout",
     "output_type": "stream",
     "text": [
      "My name is Python and i am 20 years old form hyd\n"
     ]
    }
   ],
   "source": [
    "print('My name is',name,'and i am',age,'years old form',city)"
   ]
  },
  {
   "cell_type": "markdown",
   "id": "79f59059-5529-40fe-b984-558b6a3a08e7",
   "metadata": {},
   "source": [
    "## print Format method"
   ]
  },
  {
   "cell_type": "code",
   "execution_count": 26,
   "id": "8d2e1759-eb00-42fb-89a3-78099ad1182c",
   "metadata": {},
   "outputs": [
    {
     "name": "stdout",
     "output_type": "stream",
     "text": [
      "The addition of 20 and 30 is= 50\n"
     ]
    }
   ],
   "source": [
    "num1=20 \n",
    "num2=30\n",
    "add=num1+num2\n",
    "print('The addition of {} and {} is= {}'.format(num1,num2,add))"
   ]
  },
  {
   "cell_type": "raw",
   "id": "0d81a98e-d437-4dbb-b1f9-b7f00d023c68",
   "metadata": {},
   "source": [
    "first deside how the print statement should be like:- The addition of 20 and 30 is = 50\n",
    "then replace the variable position with curly brtacesm { }\n",
    "then appply .format(val1,val2,....val-n methodm"
   ]
  },
  {
   "cell_type": "code",
   "execution_count": 30,
   "id": "d760298b-8434-4cc5-a8f3-5ad38c2acf8e",
   "metadata": {},
   "outputs": [],
   "source": [
    "name='Python' \n",
    "age=20\n",
    "city='hyd'\n",
    "#hellow my name is python and i am 10 year old from hydrabad"
   ]
  },
  {
   "cell_type": "code",
   "execution_count": 32,
   "id": "afcf2adf-ceb8-44c4-bcc1-10005193074f",
   "metadata": {},
   "outputs": [
    {
     "name": "stdout",
     "output_type": "stream",
     "text": [
      "hello my name is Python, and i am 20 years old from hyd \n"
     ]
    }
   ],
   "source": [
    "print('hello my name is {}, and i am {} years old from {} '.format(name,age,city))"
   ]
  },
  {
   "cell_type": "code",
   "execution_count": 36,
   "id": "fa902424-04ae-4824-b945-a25339911748",
   "metadata": {},
   "outputs": [
    {
     "name": "stdout",
     "output_type": "stream",
     "text": [
      "The avrage of 100, 25, and 333 is= 152.66666666666666 or 152.67\n"
     ]
    }
   ],
   "source": [
    "num1=100\n",
    "num2=25\n",
    "num3=333\n",
    "avg=(num1+num2+num3)/3 # or we can use avg=round(num1+num2+num3)/3,2)\n",
    "avg1=round((num1+num2+num3)/3,2)\n",
    "# The avrage of num1,num2,num3 is = avg\n",
    "print('The avrage of {}, {}, and {} is= {} or {}'.format(num1,num2,num3, avg,avg1)) # here we can use round(avg,2) also"
   ]
  },
  {
   "cell_type": "code",
   "execution_count": 38,
   "id": "78f767f0-e93d-4e24-bdf9-d5869103aa71",
   "metadata": {},
   "outputs": [
    {
     "data": {
      "text/plain": [
       "152.67"
      ]
     },
     "execution_count": 38,
     "metadata": {},
     "output_type": "execute_result"
    }
   ],
   "source": [
    "round(avg,2) # round of till 2 digite after decimal"
   ]
  },
  {
   "cell_type": "markdown",
   "id": "c6571445-3e1f-464e-a220-5f83c8deb30e",
   "metadata": {},
   "source": [
    "### More short format meythod(f string method)\n",
    "#### variable should be in curly braces\n",
    "#### and write everything inside quots ''\n",
    "#### at starting simpaly add f"
   ]
  },
  {
   "cell_type": "code",
   "execution_count": 44,
   "id": "4fce9129-3b99-4d66-b6e4-364604dcef59",
   "metadata": {},
   "outputs": [
    {
     "name": "stdout",
     "output_type": "stream",
     "text": [
      "The addition of 20 and 30 is= 50\n"
     ]
    }
   ],
   "source": [
    "num1=20 \n",
    "num2=30\n",
    "add=num1+num2\n",
    "print(f'The addition of {num1} and {num2} is= {add}') # alwase prefer this"
   ]
  },
  {
   "cell_type": "code",
   "execution_count": 46,
   "id": "e32fdab3-9851-4085-86f4-00102a535adc",
   "metadata": {},
   "outputs": [],
   "source": [
    "name='Python' \n",
    "age=20\n",
    "city='hyd'\n",
    "#hellow my name is python and i am 10 year old from hydrabad"
   ]
  },
  {
   "cell_type": "code",
   "execution_count": 48,
   "id": "7c024b6b-a6a6-4830-9c56-68859f5d0b8c",
   "metadata": {},
   "outputs": [
    {
     "name": "stdout",
     "output_type": "stream",
     "text": [
      "hello my name is Python, and i am 20 year old, from hyd.\n"
     ]
    }
   ],
   "source": [
    "print(f'hello my name is {name}, and i am {age} year old, from {city}.')"
   ]
  },
  {
   "cell_type": "code",
   "execution_count": 50,
   "id": "a1802504-c50e-4d82-8037-cde3192eb74a",
   "metadata": {},
   "outputs": [],
   "source": [
    "num1=100 \n",
    "num2=25 \n",
    "num3=333\n",
    "avg=round((num1+num2+num3)/3,2) # or we can use avg=round(num1+num2+num3)/3,2) # The avrage of num1,num2,num3 is = avg"
   ]
  },
  {
   "cell_type": "code",
   "execution_count": 52,
   "id": "1f1354c0-60ef-454c-b754-6ca41c0554db",
   "metadata": {},
   "outputs": [
    {
     "name": "stdout",
     "output_type": "stream",
     "text": [
      "The avrage of 100, 25 and 333 is = 152.67\n"
     ]
    }
   ],
   "source": [
    "print(f'The avrage of {num1}, {num2} and {num3} is = {avg}')"
   ]
  },
  {
   "cell_type": "code",
   "execution_count": 56,
   "id": "5009adfe-91d2-48cf-b024-5bcb5ca43f23",
   "metadata": {},
   "outputs": [
    {
     "name": "stdout",
     "output_type": "stream",
     "text": [
      "The addition of 10 and 20 is= 30\n",
      "The addition of 10 and 20 is= 30\n",
      "The addition of 10 and 20 is= 30\n"
     ]
    }
   ],
   "source": [
    "# lete combine all\n",
    "num1=10 \n",
    "num2=20\n",
    "add = num1+ num2\n",
    "print('The addition of',num1,'and',num2,'is=',add)\n",
    "print('The addition of {} and {} is= {}'.format(num1,num2,add)) \n",
    "print(f'The addition of {num1} and {num2} is= {add}')"
   ]
  },
  {
   "cell_type": "markdown",
   "id": "85074baf-fb81-4669-ba42-dfdabdf6b665",
   "metadata": {},
   "source": [
    "## end statement"
   ]
  },
  {
   "cell_type": "code",
   "execution_count": 60,
   "id": "1f29e8c2-5d04-4756-8307-5d71e2056b53",
   "metadata": {},
   "outputs": [
    {
     "name": "stdout",
     "output_type": "stream",
     "text": [
      "hello\n",
      "good moorning\n"
     ]
    }
   ],
   "source": [
    "print('hello') # 1st statement\n",
    "print('good moorning') # 2nd statement)\n",
    "# i want print like:- hellow good morning"
   ]
  },
  {
   "cell_type": "markdown",
   "id": "73a14edf-c841-43d5-bfe4-fce2d0e35fca",
   "metadata": {},
   "source": [
    "### Here we will use end statement that joint line from end of one string to starting of other string"
   ]
  },
  {
   "cell_type": "code",
   "execution_count": 63,
   "id": "5ba149f0-5389-40df-9cc1-1c04b460e623",
   "metadata": {},
   "outputs": [
    {
     "name": "stdout",
     "output_type": "stream",
     "text": [
      "hello world good day\n"
     ]
    }
   ],
   "source": [
    "print('hello', end=' ') # 1st statement\n",
    "print('world good day') # 2nd statement"
   ]
  },
  {
   "cell_type": "markdown",
   "id": "d622a7db-65fc-47cc-aff0-44daeca535ae",
   "metadata": {},
   "source": [
    "## seprator\n",
    "#### here one print statement only we use\n",
    "#### insisde one print statement we have multipal values\n",
    "#### we want to seperate these multipal values with anything"
   ]
  },
  {
   "cell_type": "code",
   "execution_count": 66,
   "id": "287b8f5e-41e3-42a3-89be-3f141e194e92",
   "metadata": {},
   "outputs": [
    {
     "name": "stdout",
     "output_type": "stream",
     "text": [
      "hello--->hai--->how are you\n"
     ]
    }
   ],
   "source": [
    "print('hello','hai','how are you',sep='--->')"
   ]
  },
  {
   "cell_type": "code",
   "execution_count": 68,
   "id": "3612bc7a-e18d-42f4-9ad2-dc7818074e6b",
   "metadata": {},
   "outputs": [
    {
     "name": "stdout",
     "output_type": "stream",
     "text": [
      "hello&hai&how are you\n"
     ]
    }
   ],
   "source": [
    "print('hello','hai','how are you',sep='&')"
   ]
  },
  {
   "cell_type": "code",
   "execution_count": 70,
   "id": "4cf9e937-5cb0-4a62-9557-ef8d3c047eb0",
   "metadata": {},
   "outputs": [
    {
     "name": "stdout",
     "output_type": "stream",
     "text": [
      "hello@hai@how are you\n"
     ]
    }
   ],
   "source": [
    "print('hello','hai','how are you',sep='@')"
   ]
  },
  {
   "cell_type": "code",
   "execution_count": 72,
   "id": "eba1ec5d-c05d-4410-9105-f41efb8acefb",
   "metadata": {},
   "outputs": [
    {
     "name": "stdout",
     "output_type": "stream",
     "text": [
      "hello hai how are you\n"
     ]
    }
   ],
   "source": [
    "print('hello','hai','how are you',sep=' ')"
   ]
  },
  {
   "cell_type": "code",
   "execution_count": 74,
   "id": "1c4e8946-b1b4-4f32-b3ec-992176a60a81",
   "metadata": {},
   "outputs": [
    {
     "name": "stdout",
     "output_type": "stream",
     "text": [
      "3 .\n"
     ]
    }
   ],
   "source": [
    "print(3,'.') # . is far from 3 so here we will use sep method"
   ]
  },
  {
   "cell_type": "code",
   "execution_count": 76,
   "id": "ea92933d-3171-4f36-8b20-1bbce17db916",
   "metadata": {},
   "outputs": [
    {
     "name": "stdout",
     "output_type": "stream",
     "text": [
      "3.\n"
     ]
    }
   ],
   "source": [
    "print(3,'.',sep='') # see now space setteld(also use to remove space B/W words)"
   ]
  },
  {
   "cell_type": "code",
   "execution_count": 80,
   "id": "06a6ce80-bc83-41e7-b32c-19e14c21baae",
   "metadata": {},
   "outputs": [
    {
     "name": "stdout",
     "output_type": "stream",
     "text": [
      "1 2 3.\n"
     ]
    }
   ],
   "source": [
    "print(1,2,end=' ') \n",
    "print(3,'.',sep='') # will print 1 2 3."
   ]
  },
  {
   "cell_type": "code",
   "execution_count": null,
   "id": "34a904be-bdca-494f-b3b8-0513c9da9067",
   "metadata": {},
   "outputs": [],
   "source": []
  }
 ],
 "metadata": {
  "kernelspec": {
   "display_name": "Python [conda env:base] *",
   "language": "python",
   "name": "conda-base-py"
  },
  "language_info": {
   "codemirror_mode": {
    "name": "ipython",
    "version": 3
   },
   "file_extension": ".py",
   "mimetype": "text/x-python",
   "name": "python",
   "nbconvert_exporter": "python",
   "pygments_lexer": "ipython3",
   "version": "3.12.3"
  }
 },
 "nbformat": 4,
 "nbformat_minor": 5
}

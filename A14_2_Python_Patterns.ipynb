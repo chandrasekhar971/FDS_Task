{
 "cells": [
  {
   "cell_type": "markdown",
   "id": "00b1a778-bdf8-4067-abf7-b8d8867ac795",
   "metadata": {},
   "source": [
    "# 1.Right Angle Triangle Pattern"
   ]
  },
  {
   "cell_type": "code",
   "execution_count": 2,
   "id": "e3c8a043-9172-490f-bf76-7acc7dd67ed6",
   "metadata": {},
   "outputs": [
    {
     "name": "stdout",
     "output_type": "stream",
     "text": [
      " * \n",
      " *  * \n",
      " *  *  * \n",
      " *  *  *  * \n",
      " *  *  *  *  * \n"
     ]
    }
   ],
   "source": [
    "for i in range(1,6):\n",
    "    print(' * ' *i)"
   ]
  },
  {
   "cell_type": "markdown",
   "id": "3b7232e5-e23c-4aba-989b-1509e1a8a6e6",
   "metadata": {},
   "source": [
    "# 2. Inverted Right Angle Triangle Pattern"
   ]
  },
  {
   "cell_type": "code",
   "execution_count": 5,
   "id": "bd7c7a57-63d8-40e5-a1d6-d2762470f2a6",
   "metadata": {},
   "outputs": [
    {
     "name": "stdout",
     "output_type": "stream",
     "text": [
      " *  *  *  *  * \n",
      " *  *  *  * \n",
      " *  *  * \n",
      " *  * \n",
      " * \n"
     ]
    }
   ],
   "source": [
    "for i in range(5,0,-1):\n",
    "    print(' * ' *i)"
   ]
  },
  {
   "cell_type": "markdown",
   "id": "d856d0d0-1b9c-4516-8f60-8b81f190028c",
   "metadata": {},
   "source": [
    "## 3.Pyramid Pattern"
   ]
  },
  {
   "cell_type": "code",
   "execution_count": 8,
   "id": "c1583c26-7206-4b38-a1cf-5d629d6fa245",
   "metadata": {},
   "outputs": [
    {
     "name": "stdout",
     "output_type": "stream",
     "text": [
      " * \n",
      " *  *  * \n",
      " *  *  *  *  * \n",
      " *  *  *  *  *  *  * \n",
      " *  *  *  *  *  *  *  *  * \n"
     ]
    }
   ],
   "source": [
    "for i in range(1,6):\n",
    "    print(''*(5-i)+' * ' *(2*i-1))"
   ]
  },
  {
   "cell_type": "markdown",
   "id": "f79c183b-e0e2-405b-b0a3-bafa0155fbc5",
   "metadata": {},
   "source": [
    "## 4.Inverted Pyramid Pattern"
   ]
  },
  {
   "cell_type": "code",
   "execution_count": 11,
   "id": "7c50f330-86bd-4144-a62d-8783139d810b",
   "metadata": {},
   "outputs": [
    {
     "name": "stdout",
     "output_type": "stream",
     "text": [
      " *  *  *  *  *  *  *  *  * \n",
      " *  *  *  *  *  *  * \n",
      " *  *  *  *  * \n",
      " *  *  * \n",
      " * \n"
     ]
    }
   ],
   "source": [
    "for i in range(5,0,-1):\n",
    "    print(''*(5-i)+' * ' *(2*i-1))"
   ]
  },
  {
   "cell_type": "markdown",
   "id": "9b58f4c5-140a-43fe-8e1e-ecad7215f98b",
   "metadata": {},
   "source": [
    "## 5.Diamond Pattern"
   ]
  },
  {
   "cell_type": "code",
   "execution_count": 14,
   "id": "f2607881-0aab-4ae0-974a-d09f754abbd8",
   "metadata": {},
   "outputs": [
    {
     "name": "stdout",
     "output_type": "stream",
     "text": [
      " * \n",
      " *  *  * \n",
      " *  *  *  *  * \n",
      " *  *  *  *  *  *  * \n",
      " *  *  *  *  *  *  *  *  * \n",
      " *  *  *  *  *  *  * \n",
      " *  *  *  *  * \n",
      " *  *  * \n",
      " * \n"
     ]
    }
   ],
   "source": [
    "for i in range(1,6):\n",
    "    print(''*(5-i)+' * '*(2*i-1))\n",
    "for i in range(4,0,-1):\n",
    "        print(''*(5-i)+' * '*(2*i-1))"
   ]
  },
  {
   "cell_type": "markdown",
   "id": "38d5fe0b-1f5b-46b8-a6dc-b2df127207c5",
   "metadata": {},
   "source": [
    "## 6.Hallow Square Pattern"
   ]
  },
  {
   "cell_type": "code",
   "execution_count": 17,
   "id": "fef606a6-f66b-46a5-8819-58e6dd3036d7",
   "metadata": {},
   "outputs": [
    {
     "name": "stdout",
     "output_type": "stream",
     "text": [
      "*****\n",
      "*   *\n",
      "*   *\n",
      "*   *\n",
      "*****\n"
     ]
    }
   ],
   "source": [
    "for i in range(5):\n",
    "    for j in range(5):\n",
    "        if i ==0 or i==4 or j==0 or j==4:\n",
    "            print('*',end='')\n",
    "        else:\n",
    "            print(' ' ,end='')\n",
    "    print()       "
   ]
  },
  {
   "cell_type": "markdown",
   "id": "7595e8e6-7e18-4ac0-919a-2922f67b48d3",
   "metadata": {},
   "source": [
    "## 7.Full Square Pattern"
   ]
  },
  {
   "cell_type": "code",
   "execution_count": 20,
   "id": "dc0effac-a021-447b-a451-7f2dac15ed5e",
   "metadata": {},
   "outputs": [
    {
     "name": "stdout",
     "output_type": "stream",
     "text": [
      " *  *  *  *  * \n",
      " *  *  *  *  * \n",
      " *  *  *  *  * \n",
      " *  *  *  *  * \n",
      " *  *  *  *  * \n"
     ]
    }
   ],
   "source": [
    "for i in range(5):\n",
    "    print(' * '*5)"
   ]
  },
  {
   "cell_type": "markdown",
   "id": "d493727d-3105-40b7-be1f-6e071dc68068",
   "metadata": {},
   "source": [
    "## 8.Right Angle Traingle(Number Pattern)"
   ]
  },
  {
   "cell_type": "code",
   "execution_count": 23,
   "id": "dab55885-98f5-4bf4-88c1-2103c894dc55",
   "metadata": {},
   "outputs": [
    {
     "name": "stdout",
     "output_type": "stream",
     "text": [
      "1\n",
      "1 2\n",
      "1 2 3\n",
      "1 2 3 4\n",
      "1 2 3 4 5\n"
     ]
    }
   ],
   "source": [
    "for i in range(1,6):\n",
    "    print(' '.join(str(x) for x in range(1, i+1)))"
   ]
  },
  {
   "cell_type": "markdown",
   "id": "08a47ba4-6439-461e-9ade-ea07cb551340",
   "metadata": {},
   "source": [
    "# 9.Inverted Right Angle Traingle"
   ]
  },
  {
   "cell_type": "code",
   "execution_count": 26,
   "id": "c1b412bb-01ef-43fb-992e-f776a5d9bb8f",
   "metadata": {},
   "outputs": [
    {
     "name": "stdout",
     "output_type": "stream",
     "text": [
      "1 2 3 4 5\n",
      "1 2 3 4\n",
      "1 2 3\n",
      "1 2\n",
      "1\n"
     ]
    }
   ],
   "source": [
    "for i in range(5,0,-1):\n",
    "    print(' '.join(str(x)for x in range(1,i+1)))"
   ]
  },
  {
   "cell_type": "markdown",
   "id": "eb1789af-8482-4fce-b3e0-817aba41edd7",
   "metadata": {},
   "source": [
    "## 10.Floyd's triangle"
   ]
  },
  {
   "cell_type": "code",
   "execution_count": 29,
   "id": "e0911f7d-8dbb-49ff-8767-d2cfd6ae1ed7",
   "metadata": {},
   "outputs": [
    {
     "name": "stdout",
     "output_type": "stream",
     "text": [
      "1 \n",
      "2 3 \n",
      "4 5 6 \n",
      "7 8 9 10 \n",
      "11 12 13 14 15 \n"
     ]
    }
   ],
   "source": [
    "num=1\n",
    "for i in range(1,6):\n",
    "    for j in range(1,i+1):\n",
    "        print(num,end=' ')\n",
    "        num+=1\n",
    "    print()    "
   ]
  },
  {
   "cell_type": "markdown",
   "id": "c51348bd-d6f9-453c-8428-90f85bdf31e1",
   "metadata": {},
   "source": [
    "# 11.Hallow Right Angle Triangle"
   ]
  },
  {
   "cell_type": "code",
   "execution_count": 32,
   "id": "b2d131ac-81d1-40e0-ab4b-5d6219409a4c",
   "metadata": {},
   "outputs": [
    {
     "name": "stdout",
     "output_type": "stream",
     "text": [
      "* \n",
      "* * \n",
      "*   * \n",
      "*     * \n",
      "* * * * * \n"
     ]
    }
   ],
   "source": [
    "for i in range(1,6):\n",
    "    for j in range(1,i+1):\n",
    "        if j==1 or j==i or i==5:\n",
    "            print('*',end=' ')\n",
    "        else:\n",
    "            print(' ',end=' ')\n",
    "    print()        "
   ]
  },
  {
   "cell_type": "markdown",
   "id": "9e4ab028-852b-4f29-8a75-06dd3e00ec14",
   "metadata": {},
   "source": [
    "# 12.Hallow Pyramid Pattern"
   ]
  },
  {
   "cell_type": "code",
   "execution_count": 35,
   "id": "e1ec4a02-8db6-484d-8da0-f20480da4a04",
   "metadata": {},
   "outputs": [
    {
     "name": "stdout",
     "output_type": "stream",
     "text": [
      "        * \n",
      "      *   * \n",
      "    *       * \n",
      "  *           * \n",
      "* * * * * * * * * \n"
     ]
    }
   ],
   "source": [
    "for i in range(1, 6):\n",
    "    for j in range(5 - i):\n",
    "        print(' ', end=' ')\n",
    "    for j in range(2 * i - 1):\n",
    "        if j == 0 or j == 2 * i-2 or i == 5:\n",
    "            print('*', end=' ')\n",
    "        else:\n",
    "            print(' ', end=' ')\n",
    "    print()        "
   ]
  },
  {
   "cell_type": "markdown",
   "id": "a0227398-9cd0-4c8e-aa58-ed405debde98",
   "metadata": {},
   "source": [
    "## 13.Hallow Diamond Pattern"
   ]
  },
  {
   "cell_type": "code",
   "execution_count": 38,
   "id": "5fd4deb1-c98d-47e2-9066-4ac2f7663165",
   "metadata": {},
   "outputs": [
    {
     "name": "stdout",
     "output_type": "stream",
     "text": [
      "        * \n",
      "      *   * \n",
      "    *       * \n",
      "  *           * \n",
      "*               * \n",
      "  *           * \n",
      "    *       * \n",
      "      *   * \n",
      "        * \n"
     ]
    }
   ],
   "source": [
    "n = 5\n",
    "for i in range(1, n + 1):\n",
    "    for j in range(n - i):\n",
    "        print(' ',end=' ')\n",
    "    for j in range(2 * i - 1):\n",
    "        if j == 0 or j == 2 * i - 2:\n",
    "            print('*',end=' ')\n",
    "        else:\n",
    "            print(' ', end=' ')\n",
    "    print()\n",
    "\n",
    "for i in range(n - 1, 0, -1):\n",
    "    for j in range(n - i):\n",
    "        print(' ', end=' ')\n",
    "    for j in range(2 * i - 1):\n",
    "        if j == 0 or j == 2 * i - 2:\n",
    "            print('*',  end=' ')\n",
    "        else:\n",
    "            print(' ', end=' ')\n",
    "    print()"
   ]
  },
  {
   "cell_type": "markdown",
   "id": "d83991b8-ecea-41c1-b90e-51543fccbabd",
   "metadata": {},
   "source": [
    "## 14.Hallow Diamond(Number Pattern)"
   ]
  },
  {
   "cell_type": "code",
   "execution_count": 41,
   "id": "08da9469-bdef-4dd0-bb1e-421852d8a600",
   "metadata": {},
   "outputs": [
    {
     "name": "stdout",
     "output_type": "stream",
     "text": [
      "        1 \n",
      "      2   2 \n",
      "    3       3 \n",
      "  4           4 \n",
      "5               5 \n",
      "  4           4 \n",
      "    3       3 \n",
      "      2   2 \n",
      "        1 \n"
     ]
    }
   ],
   "source": [
    "n = 5\n",
    "for i in range(1, n + 1):\n",
    "    for j in range(n - i):\n",
    "        print(' ', end=' ')\n",
    "    for j in range(2 * i - 1):\n",
    "        if j == 0 or j == 2 * i - 2:\n",
    "            print(i, end=' ')\n",
    "        else:\n",
    "            print(' ', end=' ')\n",
    "    print()\n",
    "\n",
    "for i in range(n - 1, 0, -1):\n",
    "    for j in range(n - i):\n",
    "        print(' ', end=' ')\n",
    "    for j in range(2 * i - 1):\n",
    "        if j == 0 or j == 2 * i - 2:\n",
    "            print(i, end=' ')\n",
    "        else:\n",
    "            print(' ', end=' ')\n",
    "    print()"
   ]
  },
  {
   "cell_type": "code",
   "execution_count": 43,
   "id": "9c93208c-26c2-4437-900b-5302747eebb4",
   "metadata": {},
   "outputs": [
    {
     "name": "stdout",
     "output_type": "stream",
     "text": [
      "1                 1 \n",
      "1 2             1 2 \n",
      "1 2 3         1 2 3 \n",
      "1 2 3 4     1 2 3 4 \n",
      "1 2 3 4 5 1 2 3 4 5 \n",
      "1 2 3 4 5 1 2 3 4 5 \n",
      "1 2 3 4     1 2 3 4 \n",
      "1 2 3         1 2 3 \n",
      "1 2             1 2 \n",
      "1                 1 \n",
      "*                 * \n",
      "* *             * * \n",
      "* * *         * * * \n",
      "* * * *     * * * * \n",
      "* * * * * * * * * * \n",
      "* * * * * * * * * * \n",
      "* * * *     * * * * \n",
      "* * *         * * * \n",
      "* *             * * \n",
      "*                 * \n"
     ]
    }
   ],
   "source": [
    "n = 5\n",
    "for i in range(1, n + 1):\n",
    "    for j in range(1, i + 1):\n",
    "        print(j, end=' ')\n",
    "    for j in range(2 * (n - i)):\n",
    "        print(' ', end=' ')\n",
    "    for j in range(1, i + 1):\n",
    "        print(j, end=' ')\n",
    "    print()\n",
    "for i in range(n, 0, -1):\n",
    "    for j in range(1, i + 1):\n",
    "        print(j, end=' ')\n",
    "    for j in range(2 * (n - i)):\n",
    "        print(' ', end=' ')\n",
    "    for j in range(1, i + 1):\n",
    "        print(j, end=' ')\n",
    "    print()\n",
    "    \n",
    "    n = 5\n",
    "for i in range(1, n + 1):\n",
    "    for j in range(i):\n",
    "        print('*', end=' ')\n",
    "    for j in range(2 * (n - i)):\n",
    "        print(' ', end=' ')\n",
    "    for j in range(i):\n",
    "        print('*', end=' ')\n",
    "    print()\n",
    "for i in range(n, 0, -1):\n",
    "    for j in range(i):\n",
    "        print('*', end=' ')\n",
    "    for j in range(2 * (n - i)):\n",
    "        print(' ', end=' ')\n",
    "    for j in range(i):\n",
    "        print('*', end=' ')\n",
    "    print()"
   ]
  },
  {
   "cell_type": "markdown",
   "id": "95c6dbcb-1eb9-4ba5-a5d7-b3648adfd6d3",
   "metadata": {},
   "source": [
    "## 16.Hallow Number Pyramid"
   ]
  },
  {
   "cell_type": "code",
   "execution_count": 46,
   "id": "87cffe36-aa6e-451f-a0af-837e38a6addd",
   "metadata": {},
   "outputs": [
    {
     "name": "stdout",
     "output_type": "stream",
     "text": [
      "        1 \n",
      "      2   2 \n",
      "    3       3 \n",
      "  4           4 \n",
      "5 5 5 5 5 5 5 5 5 \n"
     ]
    }
   ],
   "source": [
    "n = 5\n",
    "for i in range(1, n + 1):\n",
    "    for j in range(n - i):\n",
    "        print(' ', end=' ')\n",
    "\n",
    "    for j in range(1, 2 * i):\n",
    "        if j == 1 or j == 2 * i - 1 or i ==n:\n",
    "            print(i, end=' ')\n",
    "        else:\n",
    "            print(' ', end=' ')\n",
    "    print()"
   ]
  },
  {
   "cell_type": "markdown",
   "id": "b7f2d59e-028f-402b-9502-b8101a980a74",
   "metadata": {},
   "source": [
    "## 17.Full Star Pyramid"
   ]
  },
  {
   "cell_type": "code",
   "execution_count": 49,
   "id": "496c870a-0ec0-46b1-9a7d-293e34a44cd4",
   "metadata": {},
   "outputs": [
    {
     "name": "stdout",
     "output_type": "stream",
     "text": [
      "        * \n",
      "      * * * \n",
      "    * * * * * \n",
      "  * * * * * * * \n",
      "* * * * * * * * * \n"
     ]
    }
   ],
   "source": [
    "n = 5\n",
    "\n",
    "for i in range(1, n + 1):\n",
    "    for j in range(n - i):\n",
    "        print(' ', end=' ')\n",
    "\n",
    "    for j in range(2 * i - 1):\n",
    "        print('*', end=' ')\n",
    "        \n",
    "    print()"
   ]
  },
  {
   "cell_type": "markdown",
   "id": "d0d8ae8a-7762-4309-8e39-912c67d2128b",
   "metadata": {},
   "source": [
    "## 18.Inverted Full Star Pyramid"
   ]
  },
  {
   "cell_type": "code",
   "execution_count": 52,
   "id": "ab18947f-c2f0-4388-a905-8c45a71b3b1e",
   "metadata": {},
   "outputs": [
    {
     "name": "stdout",
     "output_type": "stream",
     "text": [
      "* * * * * * * * * \n",
      "  * * * * * * * \n",
      "    * * * * * \n",
      "      * * * \n",
      "        * \n"
     ]
    }
   ],
   "source": [
    "n = 5 \n",
    "for i in range(n, 0, -1):\n",
    "    for j in range(n - i):\n",
    "        print(' ', end=' ')\n",
    "\n",
    "    for j in range(2 * i - 1):\n",
    "        print('*', end=' ')\n",
    "    print()     "
   ]
  },
  {
   "cell_type": "markdown",
   "id": "94b2d1ec-f4a2-4286-8f99-2052fa55f61d",
   "metadata": {},
   "source": [
    "## 19.Left Aligned Pyramid Pattern"
   ]
  },
  {
   "cell_type": "code",
   "execution_count": 55,
   "id": "d24defd6-99e5-4afa-940f-36b70a5f2641",
   "metadata": {},
   "outputs": [
    {
     "name": "stdout",
     "output_type": "stream",
     "text": [
      "* \n",
      "* * \n",
      "* * * \n",
      "* * * * \n",
      "* * * * * \n",
      "1 \n",
      "1 2 \n",
      "1 2 3 \n",
      "1 2 3 4 \n",
      "1 2 3 4 5 \n"
     ]
    }
   ],
   "source": [
    "n = 5\n",
    "\n",
    "for i in range(1 , n+1):\n",
    "     for j in range(i):\n",
    "         print('*', end=' ')\n",
    "     print()\n",
    "\n",
    "n = 5\n",
    "\n",
    "for i in range(1, n + 1):\n",
    "    for j in range(1, i + 1):\n",
    "        print(j, end=' ')\n",
    "    print()"
   ]
  },
  {
   "cell_type": "markdown",
   "id": "ab52d9a9-97f6-414d-8051-b5547b80c031",
   "metadata": {},
   "source": [
    "## 20.Right Aligned Pyramid Pattern"
   ]
  },
  {
   "cell_type": "code",
   "execution_count": 58,
   "id": "f10788b3-e1f5-4a61-97be-4be35bb4b15f",
   "metadata": {},
   "outputs": [
    {
     "name": "stdout",
     "output_type": "stream",
     "text": [
      "        1 \n",
      "      1 2 \n",
      "    1 2 3 \n",
      "  1 2 3 4 \n",
      "1 2 3 4 5 \n",
      "        * \n",
      "      * * \n",
      "    * * * \n",
      "  * * * * \n",
      "* * * * * \n"
     ]
    }
   ],
   "source": [
    "n = 5\n",
    "for i in range(1, n + 1):\n",
    "    for j in range(n - i):\n",
    "        print(' ', end=' ')\n",
    "\n",
    "    for j in range(1, i + 1):\n",
    "       print(j, end=' ')\n",
    "    print()\n",
    "\n",
    "n = 5\n",
    "for i in range(1, n + 1):\n",
    "    for j in range(n - i):\n",
    "        print(' ', end=' ')\n",
    "    for j in range(i):\n",
    "        print('*', end=' ')\n",
    "    print()"
   ]
  },
  {
   "cell_type": "code",
   "execution_count": null,
   "id": "7bfe3d0e-f65b-4cb8-9b8f-025ca91b11a7",
   "metadata": {},
   "outputs": [],
   "source": []
  },
  {
   "cell_type": "code",
   "execution_count": null,
   "id": "fb6c2cdd-b9c1-4305-9476-7fff608f6ad9",
   "metadata": {},
   "outputs": [],
   "source": []
  }
 ],
 "metadata": {
  "kernelspec": {
   "display_name": "Python [conda env:base] *",
   "language": "python",
   "name": "conda-base-py"
  },
  "language_info": {
   "codemirror_mode": {
    "name": "ipython",
    "version": 3
   },
   "file_extension": ".py",
   "mimetype": "text/x-python",
   "name": "python",
   "nbconvert_exporter": "python",
   "pygments_lexer": "ipython3",
   "version": "3.12.3"
  }
 },
 "nbformat": 4,
 "nbformat_minor": 5
}

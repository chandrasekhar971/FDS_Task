{
 "cells": [
  {
   "cell_type": "markdown",
   "id": "d69c8de4-1961-46f8-900b-ce596a7cc208",
   "metadata": {},
   "source": [
    "# FSDS, GENAI, AGENTIAI \n",
    "## basic python"
   ]
  },
  {
   "cell_type": "code",
   "execution_count": 1,
   "id": "3dda1f3c",
   "metadata": {},
   "outputs": [],
   "source": [
    "# Variables in Python\n",
    "\n",
    "first_name = 'chandra'\n",
    "last_name = 'sekhar'\n",
    "country = 'HYD'\n",
    "city = 'TELENGANA'\n",
    "age = 24\n",
    "is_married = True\n",
    "skills = ['HTML', 'CSS', 'JS', 'React', 'Python']\n",
    "person_info = {\n",
    "    'firstname':'Asabeneh', \n",
    "    'lastname':'Yetayeh', \n",
    "    'country':'Finland',\n",
    "    'city':'Helsinki'\n",
    "    }"
   ]
  },
  {
   "cell_type": "code",
   "execution_count": 11,
   "id": "47018e47",
   "metadata": {},
   "outputs": [
    {
     "name": "stdout",
     "output_type": "stream",
     "text": [
      "First name: chandra\n",
      "First name length: 7\n",
      "Last name:  sekhar\n",
      "Last name length:  6\n",
      "Country:  HYD\n",
      "City:  TELENGANA\n",
      "Age:  24\n",
      "Married:  True\n",
      "Skills:  ['HTML', 'CSS', 'JS', 'React', 'Python']\n",
      "Person information:  {'firstname': 'Asabeneh', 'lastname': 'Yetayeh', 'country': 'Finland', 'city': 'Helsinki'}\n"
     ]
    }
   ],
   "source": [
    "# Printing the values stored in the variables\n",
    "\n",
    "print('First name:', first_name)\n",
    "print('First name length:', len(first_name))\n",
    "print('Last name: ', last_name)\n",
    "print('Last name length: ', len(last_name))\n",
    "print('Country: ', country)\n",
    "print('City: ', city)\n",
    "print('Age: ', age)\n",
    "print('Married: ', is_married)\n",
    "print('Skills: ', skills)\n",
    "print('Person information: ', person_info)"
   ]
  },
  {
   "cell_type": "code",
   "execution_count": 14,
   "id": "8658ed60",
   "metadata": {},
   "outputs": [
    {
     "name": "stdout",
     "output_type": "stream",
     "text": [
      "Chandra sekhar India 250 True\n",
      "First name: Chandra\n",
      "Last name:  sekhar\n",
      "Country:  India\n",
      "Age:  250\n",
      "Married:  True\n"
     ]
    }
   ],
   "source": [
    "# Declaring multiple variables in one line\n",
    "\n",
    "first_name, last_name, country, age, is_married = 'Chandra', 'sekhar', 'India', 250, True\n",
    "\n",
    "print(first_name, last_name, country, age, is_married)\n",
    "print('First name:', first_name)\n",
    "print('Last name: ', last_name)\n",
    "print('Country: ', country)\n",
    "print('Age: ', age)\n",
    "print('Married: ', is_married)"
   ]
  },
  {
   "cell_type": "code",
   "execution_count": 15,
   "id": "54299525",
   "metadata": {},
   "outputs": [
    {
     "name": "stdout",
     "output_type": "stream",
     "text": [
      "5\n",
      "1\n",
      "6\n",
      "1.5\n",
      "9\n",
      "1\n",
      "1\n"
     ]
    }
   ],
   "source": [
    "print(3 + 2)   # addition(+)\n",
    "print(3 - 2)   # subtraction(-)\n",
    "print(3 * 2)   # multiplication(*)\n",
    "print(3 / 2)   # division(/)\n",
    "print(3 ** 2)  # exponential(**)\n",
    "print(3 % 2)   # modulus(%)\n",
    "print(3 // 2)  # Floor division operator(//)"
   ]
  },
  {
   "cell_type": "code",
   "execution_count": 16,
   "id": "220304a0",
   "metadata": {},
   "outputs": [
    {
     "name": "stdout",
     "output_type": "stream",
     "text": [
      "<class 'int'>\n",
      "<class 'float'>\n",
      "<class 'complex'>\n",
      "<class 'str'>\n",
      "<class 'list'>\n",
      "<class 'dict'>\n",
      "<class 'set'>\n",
      "<class 'tuple'>\n",
      "<class 'bool'>\n",
      "<class 'bool'>\n"
     ]
    }
   ],
   "source": [
    "# Checking data types\n",
    "print(type(10))                  # Int\n",
    "print(type(3.14))                # Float\n",
    "print(type(1 + 3j))              # Complex\n",
    "print(type('prakashsenapati'))   # String\n",
    "print(type([1, 2, 3]))           # List\n",
    "print(type({'name':'senapati'})) # Dictionary\n",
    "print(type({9.8, 3.14, 2.7}))    # Set\n",
    "print(type((9.8, 3.14, 2.7)))    # Tuple\n",
    "print(type(3 == 3))              # Bool\n",
    "print(type(3 >= 3))              # Bool\n"
   ]
  },
  {
   "cell_type": "code",
   "execution_count": 2,
   "id": "11d99c27-9fe6-48db-98f5-fbad87dacb9c",
   "metadata": {},
   "outputs": [
    {
     "data": {
      "text/plain": [
       "9"
      ]
     },
     "execution_count": 2,
     "metadata": {},
     "output_type": "execute_result"
    }
   ],
   "source": [
    "9"
   ]
  },
  {
   "cell_type": "code",
   "execution_count": 3,
   "id": "dd915bc6-eaba-4a48-8f8f-603830f47431",
   "metadata": {},
   "outputs": [
    {
     "data": {
      "text/plain": [
       "18"
      ]
     },
     "execution_count": 3,
     "metadata": {},
     "output_type": "execute_result"
    }
   ],
   "source": [
    "9 + 9"
   ]
  },
  {
   "cell_type": "code",
   "execution_count": 4,
   "id": "84e6a0c0-e28b-4d79-a4e8-4cba6a209ef6",
   "metadata": {},
   "outputs": [
    {
     "data": {
      "text/plain": [
       "14"
      ]
     },
     "execution_count": 4,
     "metadata": {},
     "output_type": "execute_result"
    }
   ],
   "source": [
    "9 + 9 - (10 - 3) + 3"
   ]
  },
  {
   "cell_type": "code",
   "execution_count": 5,
   "id": "799f3ea9-2d44-4938-8ec6-0cf4af6da477",
   "metadata": {},
   "outputs": [
    {
     "data": {
      "text/plain": [
       "8"
      ]
     },
     "execution_count": 5,
     "metadata": {},
     "output_type": "execute_result"
    }
   ],
   "source": [
    "9 + 9 - 10 - 3 + 3"
   ]
  },
  {
   "cell_type": "markdown",
   "id": "666dd8a4-7162-47d4-a91f-0de9b559f171",
   "metadata": {},
   "source": [
    "# numbers are called as operand \n",
    "# +, - * are called operator"
   ]
  },
  {
   "cell_type": "markdown",
   "id": "a3135f9e-7476-47f0-bf94-93e8f3e58d98",
   "metadata": {},
   "source": [
    "# ARITHMETIC OPERATOR "
   ]
  },
  {
   "cell_type": "markdown",
   "id": "70c53e4b-a0a0-4a73-bad8-3e3baba0b3e3",
   "metadata": {},
   "source": [
    "- 1- ARITHMETIC OPERATOR ( + , -, *, /, %, %%, **)\n",
    "- 2- ASSIGNMEN OPERATOR (=)\n",
    "- 3- RELATIONAL OPERATOR\n",
    "- 4- LOGICAL OPERATOR\n",
    "- 5- UNARY OPERATOR"
   ]
  },
  {
   "cell_type": "code",
   "execution_count": 6,
   "id": "71fe18cb-d03f-4363-b439-c517b45c0c47",
   "metadata": {},
   "outputs": [
    {
     "data": {
      "text/plain": [
       "15"
      ]
     },
     "execution_count": 6,
     "metadata": {},
     "output_type": "execute_result"
    }
   ],
   "source": [
    "10 + 5 #addition"
   ]
  },
  {
   "cell_type": "code",
   "execution_count": 7,
   "id": "f513d1c7-72ed-4bb2-a871-86f347ce2b3d",
   "metadata": {},
   "outputs": [
    {
     "data": {
      "text/plain": [
       "5"
      ]
     },
     "execution_count": 7,
     "metadata": {},
     "output_type": "execute_result"
    }
   ],
   "source": [
    "10- 5 #sutraction"
   ]
  },
  {
   "cell_type": "code",
   "execution_count": 8,
   "id": "7e962897-74f7-4d69-bdd9-85853ed1222b",
   "metadata": {},
   "outputs": [
    {
     "data": {
      "text/plain": [
       "20"
      ]
     },
     "execution_count": 8,
     "metadata": {},
     "output_type": "execute_result"
    }
   ],
   "source": [
    "10 * 2 # MULTIPLICATION "
   ]
  },
  {
   "cell_type": "code",
   "execution_count": 9,
   "id": "67d0026d-4de6-4e86-b435-3a409b4de5a3",
   "metadata": {},
   "outputs": [
    {
     "data": {
      "text/plain": [
       "100"
      ]
     },
     "execution_count": 9,
     "metadata": {},
     "output_type": "execute_result"
    }
   ],
   "source": [
    "10 ** 2  #POWER "
   ]
  },
  {
   "cell_type": "code",
   "execution_count": 10,
   "id": "1d11bf8c-5a8a-4269-889d-1c90d75d0be5",
   "metadata": {},
   "outputs": [
    {
     "ename": "SyntaxError",
     "evalue": "invalid syntax (3222072647.py, line 1)",
     "output_type": "error",
     "traceback": [
      "\u001b[1;36m  Input \u001b[1;32mIn [10]\u001b[1;36m\u001b[0m\n\u001b[1;33m    10 *** 2\u001b[0m\n\u001b[1;37m         ^\u001b[0m\n\u001b[1;31mSyntaxError\u001b[0m\u001b[1;31m:\u001b[0m invalid syntax\n"
     ]
    }
   ],
   "source": [
    "10 *** 2 "
   ]
  },
  {
   "cell_type": "code",
   "execution_count": null,
   "id": "131de2ee-bf73-4efa-b59c-97c09bf969a2",
   "metadata": {},
   "outputs": [
    {
     "data": {
      "text/plain": [
       "2.0"
      ]
     },
     "execution_count": 111,
     "metadata": {},
     "output_type": "execute_result"
    }
   ],
   "source": [
    "10 / 5 # FLOAT DIVISION "
   ]
  },
  {
   "cell_type": "code",
   "execution_count": null,
   "id": "56dc75da-0ef1-410e-981d-ca6eb75e3227",
   "metadata": {},
   "outputs": [
    {
     "data": {
      "text/plain": [
       "2"
      ]
     },
     "execution_count": 112,
     "metadata": {},
     "output_type": "execute_result"
    }
   ],
   "source": [
    "10 // 5 # int division "
   ]
  },
  {
   "cell_type": "code",
   "execution_count": null,
   "id": "f0a939b9-7d57-4e96-a590-fe2b9511f9f0",
   "metadata": {},
   "outputs": [
    {
     "data": {
      "text/plain": [
       "0"
      ]
     },
     "execution_count": 113,
     "metadata": {},
     "output_type": "execute_result"
    }
   ],
   "source": [
    "10 % 5"
   ]
  },
  {
   "cell_type": "code",
   "execution_count": null,
   "id": "63119534-0b73-4aa6-a28c-5caca7f9d9f2",
   "metadata": {},
   "outputs": [
    {
     "data": {
      "text/plain": [
       "3"
      ]
     },
     "execution_count": 115,
     "metadata": {},
     "output_type": "execute_result"
    }
   ],
   "source": [
    "15 % 6"
   ]
  },
  {
   "cell_type": "code",
   "execution_count": null,
   "id": "a9df1c0f-6363-41d8-a952-d3794bbefe02",
   "metadata": {},
   "outputs": [
    {
     "ename": "SyntaxError",
     "evalue": "invalid syntax (3520989292.py, line 1)",
     "output_type": "error",
     "traceback": [
      "\u001b[1;36m  Input \u001b[1;32mIn [116]\u001b[1;36m\u001b[0m\n\u001b[1;33m    15 %% 6\u001b[0m\n\u001b[1;37m        ^\u001b[0m\n\u001b[1;31mSyntaxError\u001b[0m\u001b[1;31m:\u001b[0m invalid syntax\n"
     ]
    }
   ],
   "source": [
    "15 %% 6"
   ]
  },
  {
   "cell_type": "code",
   "execution_count": null,
   "id": "13e8b157-9584-4c55-9f80-50d5e30cb3be",
   "metadata": {},
   "outputs": [
    {
     "data": {
      "text/plain": [
       "2.5"
      ]
     },
     "execution_count": 117,
     "metadata": {},
     "output_type": "execute_result"
    }
   ],
   "source": [
    "15 / 6"
   ]
  },
  {
   "cell_type": "code",
   "execution_count": null,
   "id": "25547178-797b-4a18-9cfb-447087f199ae",
   "metadata": {},
   "outputs": [
    {
     "data": {
      "text/plain": [
       "2"
      ]
     },
     "execution_count": 118,
     "metadata": {},
     "output_type": "execute_result"
    }
   ],
   "source": [
    "15 // 6"
   ]
  },
  {
   "cell_type": "markdown",
   "id": "a59b92ba-2f8f-4f7f-b5eb-62ac9e2c2561",
   "metadata": {},
   "source": [
    "# Assignment operator "
   ]
  },
  {
   "cell_type": "code",
   "execution_count": null,
   "id": "f9bfa576-1abd-45c5-b90a-c5186eedb04b",
   "metadata": {},
   "outputs": [
    {
     "data": {
      "text/plain": [
       "10"
      ]
     },
     "execution_count": 120,
     "metadata": {},
     "output_type": "execute_result"
    }
   ],
   "source": [
    "x = 10 \n",
    "x\n",
    "# x is called variable or object or identifier "
   ]
  },
  {
   "cell_type": "code",
   "execution_count": null,
   "id": "ca64e0a1-e3ec-4202-adca-c5ca705970f1",
   "metadata": {},
   "outputs": [
    {
     "data": {
      "text/plain": [
       "12"
      ]
     },
     "execution_count": 121,
     "metadata": {},
     "output_type": "execute_result"
    }
   ],
   "source": [
    "x + 2"
   ]
  },
  {
   "cell_type": "code",
   "execution_count": null,
   "id": "a8b03298-6199-45bc-b1ea-f52e3d3ddee2",
   "metadata": {},
   "outputs": [
    {
     "data": {
      "text/plain": [
       "12"
      ]
     },
     "execution_count": 122,
     "metadata": {},
     "output_type": "execute_result"
    }
   ],
   "source": [
    "x + 2"
   ]
  },
  {
   "cell_type": "code",
   "execution_count": null,
   "id": "40a4a58b-760f-4d93-953d-19b83aeb8cd1",
   "metadata": {},
   "outputs": [
    {
     "data": {
      "text/plain": [
       "12"
      ]
     },
     "execution_count": 123,
     "metadata": {},
     "output_type": "execute_result"
    }
   ],
   "source": [
    "x + 2"
   ]
  },
  {
   "cell_type": "code",
   "execution_count": null,
   "id": "bf984a1b-b847-46e6-8e61-d666e111ecaf",
   "metadata": {},
   "outputs": [
    {
     "data": {
      "text/plain": [
       "12"
      ]
     },
     "execution_count": 124,
     "metadata": {},
     "output_type": "execute_result"
    }
   ],
   "source": [
    "x + 2"
   ]
  },
  {
   "cell_type": "code",
   "execution_count": null,
   "id": "623461b2-4a58-4198-8512-c86dc6c1b0c7",
   "metadata": {},
   "outputs": [
    {
     "data": {
      "text/plain": [
       "12"
      ]
     },
     "execution_count": 125,
     "metadata": {},
     "output_type": "execute_result"
    }
   ],
   "source": [
    "x += 2\n",
    "x"
   ]
  },
  {
   "cell_type": "code",
   "execution_count": null,
   "id": "b33943e5-eb38-420b-848a-5b8cc862e512",
   "metadata": {},
   "outputs": [
    {
     "data": {
      "text/plain": [
       "14"
      ]
     },
     "execution_count": 126,
     "metadata": {},
     "output_type": "execute_result"
    }
   ],
   "source": [
    "x += 2\n",
    "x"
   ]
  },
  {
   "cell_type": "code",
   "execution_count": null,
   "id": "20ac9643-40f7-4962-9064-1706afc45483",
   "metadata": {},
   "outputs": [
    {
     "data": {
      "text/plain": [
       "16"
      ]
     },
     "execution_count": 127,
     "metadata": {},
     "output_type": "execute_result"
    }
   ],
   "source": [
    "x += 2\n",
    "x"
   ]
  },
  {
   "cell_type": "code",
   "execution_count": null,
   "id": "ce4fa972-070e-4305-9fcc-7730b3d0fe5c",
   "metadata": {},
   "outputs": [
    {
     "data": {
      "text/plain": [
       "18"
      ]
     },
     "execution_count": 128,
     "metadata": {},
     "output_type": "execute_result"
    }
   ],
   "source": [
    "x += 2\n",
    "x"
   ]
  },
  {
   "cell_type": "code",
   "execution_count": null,
   "id": "2e2afbf5-9696-422c-99de-946c23ed3123",
   "metadata": {},
   "outputs": [
    {
     "data": {
      "text/plain": [
       "18"
      ]
     },
     "execution_count": 129,
     "metadata": {},
     "output_type": "execute_result"
    }
   ],
   "source": [
    "x"
   ]
  },
  {
   "cell_type": "code",
   "execution_count": null,
   "id": "104bba39-f34b-4c23-87e2-2d75a0ebb7b3",
   "metadata": {},
   "outputs": [
    {
     "data": {
      "text/plain": [
       "16"
      ]
     },
     "execution_count": 130,
     "metadata": {},
     "output_type": "execute_result"
    }
   ],
   "source": [
    "x -= 2\n",
    "x"
   ]
  },
  {
   "cell_type": "code",
   "execution_count": null,
   "id": "e2b375af-2bc3-436e-845f-29a6d412f4b2",
   "metadata": {},
   "outputs": [
    {
     "data": {
      "text/plain": [
       "14"
      ]
     },
     "execution_count": 131,
     "metadata": {},
     "output_type": "execute_result"
    }
   ],
   "source": [
    "x -= 2\n",
    "x"
   ]
  },
  {
   "cell_type": "code",
   "execution_count": null,
   "id": "a7601ca5-8e93-4d38-a0f7-06570c9906ad",
   "metadata": {},
   "outputs": [
    {
     "data": {
      "text/plain": [
       "12"
      ]
     },
     "execution_count": 132,
     "metadata": {},
     "output_type": "execute_result"
    }
   ],
   "source": [
    "x -= 2\n",
    "x"
   ]
  },
  {
   "cell_type": "code",
   "execution_count": null,
   "id": "16bfad2a-7de2-4ba2-b3d3-eec8aa86dea1",
   "metadata": {},
   "outputs": [
    {
     "data": {
      "text/plain": [
       "12"
      ]
     },
     "execution_count": 133,
     "metadata": {},
     "output_type": "execute_result"
    }
   ],
   "source": [
    "x "
   ]
  },
  {
   "cell_type": "code",
   "execution_count": null,
   "id": "05eb6608-a744-42a5-bed0-35f9190b4413",
   "metadata": {},
   "outputs": [
    {
     "data": {
      "text/plain": [
       "24"
      ]
     },
     "execution_count": 134,
     "metadata": {},
     "output_type": "execute_result"
    }
   ],
   "source": [
    "x *= 2\n",
    "x"
   ]
  },
  {
   "cell_type": "code",
   "execution_count": null,
   "id": "37e1cce5-7d93-41db-8990-d9f9dfade494",
   "metadata": {},
   "outputs": [
    {
     "data": {
      "text/plain": [
       "48"
      ]
     },
     "execution_count": 135,
     "metadata": {},
     "output_type": "execute_result"
    }
   ],
   "source": [
    "x *= 2\n",
    "x"
   ]
  },
  {
   "cell_type": "code",
   "execution_count": null,
   "id": "b9b80606-390d-4a2a-9715-57243ebde5df",
   "metadata": {},
   "outputs": [],
   "source": [
    "x /= 2"
   ]
  },
  {
   "cell_type": "code",
   "execution_count": null,
   "id": "4c58be43-c1f9-4371-9712-d5f7e87394be",
   "metadata": {},
   "outputs": [
    {
     "data": {
      "text/plain": [
       "24.0"
      ]
     },
     "execution_count": 137,
     "metadata": {},
     "output_type": "execute_result"
    }
   ],
   "source": [
    "x"
   ]
  },
  {
   "cell_type": "code",
   "execution_count": null,
   "id": "a5c33c75-c14c-49ee-87d2-d052a17317a3",
   "metadata": {},
   "outputs": [
    {
     "data": {
      "text/plain": [
       "6.0"
      ]
     },
     "execution_count": 50,
     "metadata": {},
     "output_type": "execute_result"
    }
   ],
   "source": [
    "x /= 2\n",
    "x"
   ]
  },
  {
   "cell_type": "markdown",
   "id": "532cbe54-44e7-4a25-82c4-10dc5f767006",
   "metadata": {},
   "source": [
    "# unary operator "
   ]
  },
  {
   "cell_type": "code",
   "execution_count": null,
   "id": "7ce7989b-31ef-4777-8af2-80beb66f3378",
   "metadata": {},
   "outputs": [
    {
     "data": {
      "text/plain": [
       "7"
      ]
     },
     "execution_count": 138,
     "metadata": {},
     "output_type": "execute_result"
    }
   ],
   "source": [
    "n = 7\n",
    "n"
   ]
  },
  {
   "cell_type": "code",
   "execution_count": null,
   "id": "1b0c9590-39fc-4758-a4c1-72ed0dfafb95",
   "metadata": {},
   "outputs": [
    {
     "data": {
      "text/plain": [
       "-7"
      ]
     },
     "execution_count": 139,
     "metadata": {},
     "output_type": "execute_result"
    }
   ],
   "source": [
    "m = -n\n",
    "m"
   ]
  },
  {
   "cell_type": "code",
   "execution_count": null,
   "id": "37f44246",
   "metadata": {},
   "outputs": [],
   "source": []
  }
 ],
 "metadata": {
  "kernelspec": {
   "display_name": "Python [conda env:base] *",
   "language": "python",
   "name": "conda-base-py"
  },
  "language_info": {
   "codemirror_mode": {
    "name": "ipython",
    "version": 3
   },
   "file_extension": ".py",
   "mimetype": "text/x-python",
   "name": "python",
   "nbconvert_exporter": "python",
   "pygments_lexer": "ipython3",
   "version": "3.12.3"
  }
 },
 "nbformat": 4,
 "nbformat_minor": 5
}

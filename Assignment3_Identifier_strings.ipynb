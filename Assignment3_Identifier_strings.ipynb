{
 "cells": [
  {
   "cell_type": "markdown",
   "id": "f3d49830-9c6f-4e67-b479-2b0b2577260b",
   "metadata": {},
   "source": [
    "## Python Tutorial"
   ]
  },
  {
   "cell_type": "code",
   "execution_count": 7,
   "id": "2a0c956d-2768-430f-9b14-5095f52df51e",
   "metadata": {},
   "outputs": [],
   "source": [
    "import sys\n",
    "import keyword\n",
    "import operator\n",
    "from datetime import datetime\n",
    "import os"
   ]
  },
  {
   "cell_type": "raw",
   "id": "208adb66-0f9f-4a2a-a176-633caadfe0ae",
   "metadata": {},
   "source": [
    "Keywords:\n",
    "---------\n",
    "Keywords are the reserved words in Python and can't be used as an identifier"
   ]
  },
  {
   "cell_type": "code",
   "execution_count": 11,
   "id": "3ad4e97d-0604-4905-a61e-0e3b5814b354",
   "metadata": {},
   "outputs": [
    {
     "name": "stdout",
     "output_type": "stream",
     "text": [
      "['False', 'None', 'True', 'and', 'as', 'assert', 'async', 'await', 'break', 'class', 'continue', 'def', 'del', 'elif', 'else', 'except', 'finally', 'for', 'from', 'global', 'if', 'import', 'in', 'is', 'lambda', 'nonlocal', 'not', 'or', 'pass', 'raise', 'return', 'try', 'while', 'with', 'yield']\n"
     ]
    }
   ],
   "source": [
    "print(keyword.kwlist) # List all Python Keywords"
   ]
  },
  {
   "cell_type": "raw",
   "id": "74ac3daf-a818-405e-9b55-ad8f5e9648e9",
   "metadata": {},
   "source": [
    "Identifiers:\n",
    "------------\n",
    "An identifier is a name given to entities like class, functions, variables, etc. It helps to differentiate one entity from another."
   ]
  },
  {
   "cell_type": "code",
   "execution_count": 13,
   "id": "07e08656-a1f2-4d19-896b-cfd30a62a7b3",
   "metadata": {},
   "outputs": [
    {
     "ename": "SyntaxError",
     "evalue": "invalid decimal literal (2087397812.py, line 1)",
     "output_type": "error",
     "traceback": [
      "\u001b[1;36m  Cell \u001b[1;32mIn[13], line 1\u001b[1;36m\u001b[0m\n\u001b[1;33m    1var = 10 # Identifier can't start with a digit\u001b[0m\n\u001b[1;37m    ^\u001b[0m\n\u001b[1;31mSyntaxError\u001b[0m\u001b[1;31m:\u001b[0m invalid decimal literal\n"
     ]
    }
   ],
   "source": [
    "1var = 10 # Identifier can't start with a digit"
   ]
  },
  {
   "cell_type": "code",
   "execution_count": 15,
   "id": "4d3d4227-bc47-4acb-beb1-8767109285d0",
   "metadata": {},
   "outputs": [
    {
     "ename": "SyntaxError",
     "evalue": "invalid syntax (619048856.py, line 1)",
     "output_type": "error",
     "traceback": [
      "\u001b[1;36m  Cell \u001b[1;32mIn[15], line 1\u001b[1;36m\u001b[0m\n\u001b[1;33m    val2@ = 35 # Identifier can't use special symbols\u001b[0m\n\u001b[1;37m          ^\u001b[0m\n\u001b[1;31mSyntaxError\u001b[0m\u001b[1;31m:\u001b[0m invalid syntax\n"
     ]
    }
   ],
   "source": [
    "val2@ = 35 # Identifier can't use special symbols"
   ]
  },
  {
   "cell_type": "code",
   "execution_count": 17,
   "id": "8c02d208-4537-44f7-af90-ecdc19d17f2a",
   "metadata": {},
   "outputs": [
    {
     "ename": "SyntaxError",
     "evalue": "invalid syntax (2492423719.py, line 1)",
     "output_type": "error",
     "traceback": [
      "\u001b[1;36m  Cell \u001b[1;32mIn[17], line 1\u001b[1;36m\u001b[0m\n\u001b[1;33m    import = 125 # Keywords can't be used as identifiers\u001b[0m\n\u001b[1;37m           ^\u001b[0m\n\u001b[1;31mSyntaxError\u001b[0m\u001b[1;31m:\u001b[0m invalid syntax\n"
     ]
    }
   ],
   "source": [
    "import = 125 # Keywords can't be used as identifiers"
   ]
  },
  {
   "cell_type": "code",
   "execution_count": 19,
   "id": "7d2d7f2f-7d38-4816-bbd5-6018d0f6b3ac",
   "metadata": {},
   "outputs": [],
   "source": [
    "\"\"\"\n",
    "Correct way of defining an identifier\n",
    "(Identifiers can be a combination of letters in lowercase (a to z) or uppercase \"\"\"\n",
    "val2 = 10"
   ]
  },
  {
   "cell_type": "code",
   "execution_count": 21,
   "id": "c1084cf1-6e55-46ae-8f32-9ba6389a2919",
   "metadata": {},
   "outputs": [],
   "source": [
    "val_ = 99"
   ]
  },
  {
   "cell_type": "raw",
   "id": "7e5a3536-4270-4bc4-8329-ac2148bbee14",
   "metadata": {},
   "source": [
    "Comments:\n",
    "--------\n",
    "Comments can be used to explain the code for more readabilty."
   ]
  },
  {
   "cell_type": "code",
   "execution_count": 25,
   "id": "065ecac4-cc7f-4d63-8930-aebb6790b067",
   "metadata": {},
   "outputs": [],
   "source": [
    "#Single line comment\n",
    "val1 = 10"
   ]
  },
  {
   "cell_type": "code",
   "execution_count": 27,
   "id": "1187a1a2-f59c-409c-a6a4-6b5f4a20d278",
   "metadata": {},
   "outputs": [],
   "source": [
    "# Multiple # line\n",
    "# comment\n",
    "val1 = 10"
   ]
  },
  {
   "cell_type": "code",
   "execution_count": 29,
   "id": "27ccb90d-e959-4896-8ef5-57eaa8b89b38",
   "metadata": {},
   "outputs": [],
   "source": [
    "'''\n",
    "Multiple line\n",
    "comment '''\n",
    "val1 = 10"
   ]
  },
  {
   "cell_type": "code",
   "execution_count": 31,
   "id": "4da93cd3-79f6-4ce6-b681-253ad8ce4e7c",
   "metadata": {},
   "outputs": [],
   "source": [
    "\"\"\"\n",
    "Multiple line\n",
    "comment \"\"\"\n",
    "val1 = 10"
   ]
  },
  {
   "cell_type": "raw",
   "id": "a18e0f6b-69fb-43ce-8550-b3fb42cde56f",
   "metadata": {},
   "source": [
    "Statements:\n",
    "-----------\n",
    "Instructions that a Python interpreter can execute."
   ]
  },
  {
   "cell_type": "code",
   "execution_count": 51,
   "id": "cafefeac-c170-444a-ad23-875a1a5758fe",
   "metadata": {},
   "outputs": [
    {
     "data": {
      "text/plain": [
       "(20, int, '0x7ffe4ded5c18')"
      ]
     },
     "execution_count": 51,
     "metadata": {},
     "output_type": "execute_result"
    }
   ],
   "source": [
    "p = 20 #Creates an integer object with value 20 and assigns the variable p to p \n",
    "q = 20 # variable r will also point to the same location where p & q are pointin p , type(p), hex(id(p)) \n",
    "r = q\n",
    "p , type(p), hex(id(p)) # Variable P is pointing to memory location '0x7fff6d71a  "
   ]
  },
  {
   "cell_type": "code",
   "execution_count": 53,
   "id": "58f2211c-203d-4eef-8f1b-1e8e40743150",
   "metadata": {},
   "outputs": [
    {
     "data": {
      "text/plain": [
       "(20, int, '0x7ffe4ded5c18')"
      ]
     },
     "execution_count": 53,
     "metadata": {},
     "output_type": "execute_result"
    }
   ],
   "source": [
    "q , type(q), hex(id(q))"
   ]
  },
  {
   "cell_type": "code",
   "execution_count": 55,
   "id": "aa799c33-d82a-48f1-9efb-87023e3b6674",
   "metadata": {},
   "outputs": [
    {
     "data": {
      "text/plain": [
       "(20, int, '0x7ffe4ded5c18')"
      ]
     },
     "execution_count": 55,
     "metadata": {},
     "output_type": "execute_result"
    }
   ],
   "source": [
    "r , type(r), hex(id(r))"
   ]
  },
  {
   "attachments": {
    "cff554c6-2f8d-4fe6-87c7-74b636b9a83b.png": {
     "image/png": "[encoded data removed]"
    }
   },
   "cell_type": "markdown",
   "id": "79a45658-7633-43fe-8f62-b15489847c75",
   "metadata": {},
   "source": [
    "![1.png](attachment:cff554c6-2f8d-4fe6-87c7-74b636b9a83b.png)"
   ]
  },
  {
   "cell_type": "code",
   "execution_count": 58,
   "id": "f9788acb-1213-4a29-aeef-101a6c39adaf",
   "metadata": {},
   "outputs": [
    {
     "data": {
      "text/plain": [
       "30"
      ]
     },
     "execution_count": 58,
     "metadata": {},
     "output_type": "execute_result"
    }
   ],
   "source": [
    "p = 20\n",
    "p = p + 10 # Variable Overwriting\n",
    "p"
   ]
  },
  {
   "cell_type": "markdown",
   "id": "7daca55a-9de3-4fc8-a566-0978ccd2a885",
   "metadata": {},
   "source": [
    "## Variable Assigment"
   ]
  },
  {
   "cell_type": "code",
   "execution_count": 63,
   "id": "a79914bb-3c43-48d0-bc4d-cb849c21bf31",
   "metadata": {},
   "outputs": [
    {
     "name": "stdout",
     "output_type": "stream",
     "text": [
      "10\n",
      "2.57\n",
      "Python Language\n"
     ]
    }
   ],
   "source": [
    "intvar = 10 # Integer variable\n",
    "floatvar = 2.57 # Float Variable\n",
    "strvar = \"Python Language\" # String variable\n",
    "print(intvar)\n",
    "print(floatvar) \n",
    "print(strvar)"
   ]
  },
  {
   "cell_type": "markdown",
   "id": "c17cfe5d-80f6-4d8b-817e-844a8da04250",
   "metadata": {},
   "source": [
    "## Multiple Assignments"
   ]
  },
  {
   "cell_type": "code",
   "execution_count": 68,
   "id": "2534ec8a-0b72-489c-84d3-4957f45a9803",
   "metadata": {},
   "outputs": [
    {
     "name": "stdout",
     "output_type": "stream",
     "text": [
      "10\n",
      "2.57\n",
      "Python Language\n"
     ]
    }
   ],
   "source": [
    "intvar , floatvar , strvar = 10,2.57,\"Python Language\" # Using commas to separat\n",
    "print(intvar)\n",
    "print(floatvar) \n",
    "print(strvar)"
   ]
  },
  {
   "cell_type": "code",
   "execution_count": 70,
   "id": "0aabd9f0-a5c0-45f2-b3bf-85c104b48eb5",
   "metadata": {},
   "outputs": [
    {
     "name": "stdout",
     "output_type": "stream",
     "text": [
      "44 44 44 44\n"
     ]
    }
   ],
   "source": [
    "p1 = p2 = p3 = p4 = 44 # All variables pointing to same value\n",
    "print(p1,p2,p3,p4)"
   ]
  },
  {
   "cell_type": "markdown",
   "id": "e289c891-7384-4ee6-ba1b-e6d83c3842ac",
   "metadata": {},
   "source": [
    "## Data Types"
   ]
  },
  {
   "cell_type": "markdown",
   "id": "4897188c-2a27-4447-bd84-c9636858072e",
   "metadata": {},
   "source": [
    "### Numeric"
   ]
  },
  {
   "cell_type": "code",
   "execution_count": 74,
   "id": "cea59fe1-774a-4ab9-9ada-0db6c8a73526",
   "metadata": {},
   "outputs": [
    {
     "name": "stdout",
     "output_type": "stream",
     "text": [
      "10\n",
      "<class 'int'>\n",
      "28\n",
      "10  is Integer? True\n"
     ]
    }
   ],
   "source": [
    "val1 = 10 # Integer data type\n",
    "print(val1)\n",
    "print(type(val1)) # type of object\n",
    "print(sys.getsizeof(val1)) # size of integer object in bytes\n",
    "print(val1, \" is Integer?\", \n",
    "isinstance(val1, int)) # val1 is an instance of int"
   ]
  },
  {
   "cell_type": "code",
   "execution_count": 76,
   "id": "6df17902-0631-4a78-880a-6b4ff293a32c",
   "metadata": {},
   "outputs": [
    {
     "name": "stdout",
     "output_type": "stream",
     "text": [
      "92.78\n",
      "<class 'float'>\n",
      "24\n",
      "92.78  is float? True\n"
     ]
    }
   ],
   "source": [
    "val2 = 92.78 # Float data type\n",
    "print(val2)\n",
    "print(type(val2)) # type of object\n",
    "print(sys.getsizeof(val2)) # size of float object in bytes\n",
    "print(val2, \" is float?\", \n",
    "isinstance(val2, float)) # Val2 is an instance of floa"
   ]
  },
  {
   "cell_type": "code",
   "execution_count": 78,
   "id": "ecbae310-87fa-4b5f-b271-4ee0bc438354",
   "metadata": {},
   "outputs": [
    {
     "name": "stdout",
     "output_type": "stream",
     "text": [
      "(25+10j)\n",
      "<class 'complex'>\n",
      "32\n",
      "(25+10j)  is complex? True\n"
     ]
    }
   ],
   "source": [
    "val3 = 25 + 10j # Complex data type\n",
    "print(val3)\n",
    "print(type(val3)) # type of object\n",
    "print(sys.getsizeof(val3)) # size of float object in bytes\n",
    "print(val3, \" is complex?\", \n",
    "isinstance(val3, complex)) # val3 is an instance of"
   ]
  },
  {
   "cell_type": "code",
   "execution_count": 80,
   "id": "094e3360-5429-4fad-8021-f34c39de9437",
   "metadata": {},
   "outputs": [
    {
     "data": {
      "text/plain": [
       "28"
      ]
     },
     "execution_count": 80,
     "metadata": {},
     "output_type": "execute_result"
    }
   ],
   "source": [
    "sys.getsizeof(int()) # size of integer object in bytes"
   ]
  },
  {
   "cell_type": "code",
   "execution_count": 82,
   "id": "63192de8-3a28-435a-9735-950b2646b05e",
   "metadata": {},
   "outputs": [
    {
     "data": {
      "text/plain": [
       "24"
      ]
     },
     "execution_count": 82,
     "metadata": {},
     "output_type": "execute_result"
    }
   ],
   "source": [
    "sys.getsizeof(float()) # size of float object in bytes"
   ]
  },
  {
   "cell_type": "code",
   "execution_count": 84,
   "id": "713cca57-19f8-40db-8dc1-427b0ab691df",
   "metadata": {},
   "outputs": [
    {
     "data": {
      "text/plain": [
       "32"
      ]
     },
     "execution_count": 84,
     "metadata": {},
     "output_type": "execute_result"
    }
   ],
   "source": [
    "sys.getsizeof(complex()) # size of complex object in bytes"
   ]
  },
  {
   "cell_type": "markdown",
   "id": "9cffc736-91ad-472c-a1eb-d99e5c25c020",
   "metadata": {},
   "source": [
    "## Boolean\n",
    "### Boolean data type can have only two possible values true or false."
   ]
  },
  {
   "cell_type": "code",
   "execution_count": 87,
   "id": "34bc9e8c-be11-45f3-b5bb-5228c58c455e",
   "metadata": {},
   "outputs": [],
   "source": [
    "bool1 = True"
   ]
  },
  {
   "cell_type": "code",
   "execution_count": 89,
   "id": "8809487a-850f-4c01-91fb-bb5c398da591",
   "metadata": {},
   "outputs": [],
   "source": [
    "bool2 = False"
   ]
  },
  {
   "cell_type": "code",
   "execution_count": 91,
   "id": "2da7d0df-a184-4fa9-9991-0053c4ea09f3",
   "metadata": {},
   "outputs": [
    {
     "name": "stdout",
     "output_type": "stream",
     "text": [
      "<class 'bool'>\n"
     ]
    }
   ],
   "source": [
    "print(type(bool1))"
   ]
  },
  {
   "cell_type": "code",
   "execution_count": 93,
   "id": "d18ab78d-f7b3-431f-b408-37d0ca2454b6",
   "metadata": {},
   "outputs": [
    {
     "name": "stdout",
     "output_type": "stream",
     "text": [
      "<class 'bool'>\n"
     ]
    }
   ],
   "source": [
    "print(type(bool2))"
   ]
  },
  {
   "cell_type": "code",
   "execution_count": 95,
   "id": "30e04d16-ab19-4f50-b090-5787103c88fc",
   "metadata": {},
   "outputs": [
    {
     "data": {
      "text/plain": [
       "True"
      ]
     },
     "execution_count": 95,
     "metadata": {},
     "output_type": "execute_result"
    }
   ],
   "source": [
    "isinstance(bool1, bool)"
   ]
  },
  {
   "cell_type": "code",
   "execution_count": 97,
   "id": "95ba6bfd-a650-4455-9c6a-49886d86775a",
   "metadata": {},
   "outputs": [
    {
     "data": {
      "text/plain": [
       "False"
      ]
     },
     "execution_count": 97,
     "metadata": {},
     "output_type": "execute_result"
    }
   ],
   "source": [
    "bool(0)"
   ]
  },
  {
   "cell_type": "code",
   "execution_count": 99,
   "id": "74c9b4b7-094c-4ac3-9fd4-7d1039c0ca17",
   "metadata": {},
   "outputs": [
    {
     "data": {
      "text/plain": [
       "True"
      ]
     },
     "execution_count": 99,
     "metadata": {},
     "output_type": "execute_result"
    }
   ],
   "source": [
    "bool(1)"
   ]
  },
  {
   "cell_type": "code",
   "execution_count": 101,
   "id": "320c19ba-e133-437d-815f-1a81a46efaf5",
   "metadata": {},
   "outputs": [
    {
     "data": {
      "text/plain": [
       "False"
      ]
     },
     "execution_count": 101,
     "metadata": {},
     "output_type": "execute_result"
    }
   ],
   "source": [
    "bool(None)"
   ]
  },
  {
   "cell_type": "code",
   "execution_count": 103,
   "id": "a5d9da73-258e-4abd-adf0-e36f110fc0f9",
   "metadata": {},
   "outputs": [
    {
     "data": {
      "text/plain": [
       "False"
      ]
     },
     "execution_count": 103,
     "metadata": {},
     "output_type": "execute_result"
    }
   ],
   "source": [
    "bool (False)"
   ]
  },
  {
   "cell_type": "markdown",
   "id": "1abd546d-137a-45b7-89fa-63658d7bbdca",
   "metadata": {},
   "source": [
    "## Strings"
   ]
  },
  {
   "cell_type": "markdown",
   "id": "d154e324-0d79-4a98-950d-1d5c73db81ab",
   "metadata": {},
   "source": [
    "### String Creation"
   ]
  },
  {
   "cell_type": "code",
   "execution_count": 108,
   "id": "2fe3a8cd-1a87-497e-ab34-791494613459",
   "metadata": {},
   "outputs": [
    {
     "name": "stdout",
     "output_type": "stream",
     "text": [
      "HELLO PYTHON\n"
     ]
    }
   ],
   "source": [
    "str1 = \"HELLO PYTHON\"\n",
    "print(str1)"
   ]
  },
  {
   "cell_type": "code",
   "execution_count": 110,
   "id": "cd77598a-aeb2-4186-9de4-0d4bc2af62f7",
   "metadata": {},
   "outputs": [
    {
     "name": "stdout",
     "output_type": "stream",
     "text": [
      "Hello World\n"
     ]
    }
   ],
   "source": [
    "mystr = 'Hello World' # Define string using single quotes\n",
    "print(mystr)"
   ]
  },
  {
   "cell_type": "code",
   "execution_count": 112,
   "id": "dc4fba71-15d1-4365-a04b-dfd72876a9b1",
   "metadata": {},
   "outputs": [
    {
     "name": "stdout",
     "output_type": "stream",
     "text": [
      "Hello World\n"
     ]
    }
   ],
   "source": [
    "mystr = \"Hello World\" # Define string using double quotes\n",
    "print(mystr)"
   ]
  },
  {
   "cell_type": "code",
   "execution_count": 114,
   "id": "dac86b90-2254-49bb-b958-2fd099cec3a5",
   "metadata": {},
   "outputs": [
    {
     "name": "stdout",
     "output_type": "stream",
     "text": [
      "Hello\n",
      "World \n"
     ]
    }
   ],
   "source": [
    "mystr = '''Hello\n",
    "World ''' # Define string using triple quotes\n",
    "print(mystr)"
   ]
  },
  {
   "cell_type": "code",
   "execution_count": 116,
   "id": "e112c778-44e0-4ffd-9558-4d8ef2ca4082",
   "metadata": {},
   "outputs": [
    {
     "name": "stdout",
     "output_type": "stream",
     "text": [
      "Hello\n",
      "World\n"
     ]
    }
   ],
   "source": [
    "mystr = \"\"\"Hello\n",
    "World\"\"\" # Define string using triple quotes\n",
    "print(mystr)"
   ]
  },
  {
   "cell_type": "code",
   "execution_count": 118,
   "id": "172105e3-e925-4d75-86b8-c13892ee4fc9",
   "metadata": {},
   "outputs": [
    {
     "name": "stdout",
     "output_type": "stream",
     "text": [
      "Happy Monday Everyone\n"
     ]
    }
   ],
   "source": [
    "mystr = ('Happy '\n",
    "'Monday ' 'Everyone')\n",
    "print(mystr)"
   ]
  },
  {
   "cell_type": "code",
   "execution_count": 173,
   "id": "a0330edf-7482-425a-a0af-b08e32c29d5e",
   "metadata": {},
   "outputs": [
    {
     "data": {
      "text/plain": [
       "'Woohoo Woohoo Woohoo Woohoo Woohoo '"
      ]
     },
     "execution_count": 173,
     "metadata": {},
     "output_type": "execute_result"
    }
   ],
   "source": [
    "mystr2 = 'Woohoo ' \n",
    "mystr2 = mystr2*5 \n",
    "mystr2"
   ]
  },
  {
   "cell_type": "code",
   "execution_count": 124,
   "id": "dadf6c23-b7fa-487b-8eaa-bf21fb2a651b",
   "metadata": {},
   "outputs": [
    {
     "data": {
      "text/plain": [
       "35"
      ]
     },
     "execution_count": 124,
     "metadata": {},
     "output_type": "execute_result"
    }
   ],
   "source": [
    "len(mystr2) # Length of string"
   ]
  },
  {
   "cell_type": "markdown",
   "id": "5deda82a-d8a7-4f9b-8c8f-c0b2eda72d67",
   "metadata": {},
   "source": [
    "### String Indexing"
   ]
  },
  {
   "attachments": {
    "e5d357d4-2289-4658-b664-2437bd7fa978.png": {
     "image/png": "[encoded data removed]"
    }
   },
   "cell_type": "markdown",
   "id": "d58f310e-e40d-473e-9389-029b17effdf7",
   "metadata": {},
   "source": [
    "![2.png](attachment:e5d357d4-2289-4658-b664-2437bd7fa978.png)"
   ]
  },
  {
   "cell_type": "code",
   "execution_count": 128,
   "id": "01641036-a1b7-4347-81a1-13cdc1c8005a",
   "metadata": {},
   "outputs": [
    {
     "data": {
      "text/plain": [
       "'HELLO PYTHON'"
      ]
     },
     "execution_count": 128,
     "metadata": {},
     "output_type": "execute_result"
    }
   ],
   "source": [
    "str1"
   ]
  },
  {
   "cell_type": "code",
   "execution_count": 130,
   "id": "97d9d2e4-e209-4476-aaa5-0bfc97a87fb2",
   "metadata": {},
   "outputs": [
    {
     "data": {
      "text/plain": [
       "'H'"
      ]
     },
     "execution_count": 130,
     "metadata": {},
     "output_type": "execute_result"
    }
   ],
   "source": [
    "str1[0] # First character in string \"str1\""
   ]
  },
  {
   "cell_type": "code",
   "execution_count": 132,
   "id": "468e46a3-c576-4d14-8f95-e67fb10b7e7f",
   "metadata": {},
   "outputs": [
    {
     "data": {
      "text/plain": [
       "'N'"
      ]
     },
     "execution_count": 132,
     "metadata": {},
     "output_type": "execute_result"
    }
   ],
   "source": [
    "str1[len(str1)-1] # Last character in string using len function"
   ]
  },
  {
   "cell_type": "code",
   "execution_count": 134,
   "id": "d5667990-eee3-4f88-aa59-d457a26a4b0a",
   "metadata": {},
   "outputs": [
    {
     "data": {
      "text/plain": [
       "'N'"
      ]
     },
     "execution_count": 134,
     "metadata": {},
     "output_type": "execute_result"
    }
   ],
   "source": [
    "str1[-1] # Last character in string"
   ]
  },
  {
   "cell_type": "code",
   "execution_count": 136,
   "id": "58a4ad91-1253-4f59-8260-66faaa323bd3",
   "metadata": {},
   "outputs": [
    {
     "data": {
      "text/plain": [
       "'P'"
      ]
     },
     "execution_count": 136,
     "metadata": {},
     "output_type": "execute_result"
    }
   ],
   "source": [
    "str1[6] #Fetch 7th element of the string"
   ]
  },
  {
   "cell_type": "code",
   "execution_count": 138,
   "id": "d5c7a73d-6398-4e66-af79-659a0ccd758c",
   "metadata": {},
   "outputs": [
    {
     "data": {
      "text/plain": [
       "' '"
      ]
     },
     "execution_count": 138,
     "metadata": {},
     "output_type": "execute_result"
    }
   ],
   "source": [
    "str1[5]"
   ]
  },
  {
   "cell_type": "markdown",
   "id": "8f120690-f248-4fb7-aab0-d69250d1b67f",
   "metadata": {},
   "source": [
    "### String Slicing"
   ]
  },
  {
   "cell_type": "code",
   "execution_count": 141,
   "id": "71bf0d7a-1e89-4a2b-8f9d-004f8a037d09",
   "metadata": {},
   "outputs": [
    {
     "data": {
      "text/plain": [
       "'HELLO'"
      ]
     },
     "execution_count": 141,
     "metadata": {},
     "output_type": "execute_result"
    }
   ],
   "source": [
    "str1[0:5] # String slicing - Fetch all characters from 0 to 5 index location exc"
   ]
  },
  {
   "cell_type": "code",
   "execution_count": 143,
   "id": "0fea2f13-a970-41b6-a8b5-a139a86eeb07",
   "metadata": {},
   "outputs": [
    {
     "data": {
      "text/plain": [
       "'PYTHON'"
      ]
     },
     "execution_count": 143,
     "metadata": {},
     "output_type": "execute_result"
    }
   ],
   "source": [
    "str1[6:12] # String slicing - Retreive all characters between 6 - 12 index loc e"
   ]
  },
  {
   "cell_type": "code",
   "execution_count": 145,
   "id": "5d8bfbce-b4f6-493d-820b-36840dc59e4c",
   "metadata": {},
   "outputs": [
    {
     "data": {
      "text/plain": [
       "'THON'"
      ]
     },
     "execution_count": 145,
     "metadata": {},
     "output_type": "execute_result"
    }
   ],
   "source": [
    "str1[-4:] # Retreive last four characters of the string"
   ]
  },
  {
   "cell_type": "code",
   "execution_count": 147,
   "id": "42e7e1da-ce0a-4eb9-9069-999ed8f6cb8a",
   "metadata": {},
   "outputs": [
    {
     "data": {
      "text/plain": [
       "'PYTHON'"
      ]
     },
     "execution_count": 147,
     "metadata": {},
     "output_type": "execute_result"
    }
   ],
   "source": [
    "str1[-6:] # Retreive last six characters of the string"
   ]
  },
  {
   "cell_type": "code",
   "execution_count": 149,
   "id": "e9e0aaac-f72f-4be8-9667-60c7b134c96a",
   "metadata": {},
   "outputs": [
    {
     "data": {
      "text/plain": [
       "'HELL'"
      ]
     },
     "execution_count": 149,
     "metadata": {},
     "output_type": "execute_result"
    }
   ],
   "source": [
    "str1[:4] # Retreive first four characters of the string"
   ]
  },
  {
   "cell_type": "code",
   "execution_count": 151,
   "id": "99abc6e9-8af7-42b3-b185-ed9bd12486cc",
   "metadata": {},
   "outputs": [
    {
     "data": {
      "text/plain": [
       "'HELLO '"
      ]
     },
     "execution_count": 151,
     "metadata": {},
     "output_type": "execute_result"
    }
   ],
   "source": [
    "str1[:6] # Retreive first six characters of the string"
   ]
  },
  {
   "cell_type": "markdown",
   "id": "07776a36-ee58-4dc4-afeb-ad7159f0e57c",
   "metadata": {},
   "source": [
    "### Update & Delete String"
   ]
  },
  {
   "cell_type": "code",
   "execution_count": 158,
   "id": "1e2af40f-9c5b-4844-9783-01310a34b052",
   "metadata": {},
   "outputs": [
    {
     "data": {
      "text/plain": [
       "'HELLO PYTHON'"
      ]
     },
     "execution_count": 158,
     "metadata": {},
     "output_type": "execute_result"
    }
   ],
   "source": [
    "str1"
   ]
  },
  {
   "cell_type": "code",
   "execution_count": 160,
   "id": "ff94d691-342c-4c20-9956-23dc80ca4a0b",
   "metadata": {},
   "outputs": [
    {
     "ename": "TypeError",
     "evalue": "'str' object does not support item assignment",
     "output_type": "error",
     "traceback": [
      "\u001b[1;31m---------------------------------------------------------------------------\u001b[0m",
      "\u001b[1;31mTypeError\u001b[0m                                 Traceback (most recent call last)",
      "Cell \u001b[1;32mIn[160], line 2\u001b[0m\n\u001b[0;32m      1\u001b[0m \u001b[38;5;66;03m#Strings are immutable which means elements of a string cannot be changed once t\u001b[39;00m\n\u001b[1;32m----> 2\u001b[0m str1[\u001b[38;5;241m0\u001b[39m:\u001b[38;5;241m5\u001b[39m] \u001b[38;5;241m=\u001b[39m \u001b[38;5;124m'\u001b[39m\u001b[38;5;124mHOLAA\u001b[39m\u001b[38;5;124m'\u001b[39m\n",
      "\u001b[1;31mTypeError\u001b[0m: 'str' object does not support item assignment"
     ]
    }
   ],
   "source": [
    "#Strings are immutable which means elements of a string cannot be changed once t\n",
    "str1[0:5] = 'HOLAA'"
   ]
  },
  {
   "cell_type": "code",
   "execution_count": 162,
   "id": "f340dda9-4a69-4acc-8af2-3b38d480f13a",
   "metadata": {},
   "outputs": [
    {
     "ename": "NameError",
     "evalue": "name 'srt1' is not defined",
     "output_type": "error",
     "traceback": [
      "\u001b[1;31m---------------------------------------------------------------------------\u001b[0m",
      "\u001b[1;31mNameError\u001b[0m                                 Traceback (most recent call last)",
      "Cell \u001b[1;32mIn[162], line 2\u001b[0m\n\u001b[0;32m      1\u001b[0m \u001b[38;5;28;01mdel\u001b[39;00m str1 \u001b[38;5;66;03m# Delete a string\u001b[39;00m\n\u001b[1;32m----> 2\u001b[0m \u001b[38;5;28mprint\u001b[39m(srt1)\n",
      "\u001b[1;31mNameError\u001b[0m: name 'srt1' is not defined"
     ]
    }
   ],
   "source": [
    "del str1 # Delete a string\n",
    "print(srt1)"
   ]
  },
  {
   "cell_type": "markdown",
   "id": "eb5aa9fb-e646-4e2e-bc39-6e75374e8c42",
   "metadata": {},
   "source": [
    "### String concatenation"
   ]
  },
  {
   "cell_type": "code",
   "execution_count": 171,
   "id": "5fc283a3-4f9b-4b25-ab74-9bf1b7535e85",
   "metadata": {},
   "outputs": [
    {
     "name": "stdout",
     "output_type": "stream",
     "text": [
      "HelloAsif\n"
     ]
    }
   ],
   "source": [
    "#String concatenation\n",
    "s1 = \"Hello\" \n",
    "s2 = \"Asif\"\n",
    "s3 = s1 + s2 \n",
    "print(s3)"
   ]
  },
  {
   "cell_type": "code",
   "execution_count": 1,
   "id": "1c8986d0-64fa-4b62-9d1a-2898d2a80748",
   "metadata": {},
   "outputs": [
    {
     "data": {
      "text/plain": [
       "'abc def ghi '"
      ]
     },
     "execution_count": 1,
     "metadata": {},
     "output_type": "execute_result"
    }
   ],
   "source": [
    "txt = \" abc def ghi \"\n",
    "txt.lstrip()"
   ]
  },
  {
   "cell_type": "code",
   "execution_count": 3,
   "id": "0dd8f60f-8657-457d-8e5d-e88a1b219902",
   "metadata": {},
   "outputs": [
    {
     "data": {
      "text/plain": [
       "'abc def ghi'"
      ]
     },
     "execution_count": 3,
     "metadata": {},
     "output_type": "execute_result"
    }
   ],
   "source": [
    "txt = \" abc def ghi \"\n",
    "txt.strip()"
   ]
  },
  {
   "cell_type": "markdown",
   "id": "cdb3cb0f-8022-44d4-a89a-6d61ab1bd29a",
   "metadata": {},
   "source": [
    "### Using Escape Character"
   ]
  },
  {
   "cell_type": "code",
   "execution_count": 10,
   "id": "6aed00d5-3241-43f3-87df-56421b163587",
   "metadata": {},
   "outputs": [
    {
     "ename": "SyntaxError",
     "evalue": "invalid syntax (739327747.py, line 2)",
     "output_type": "error",
     "traceback": [
      "\u001b[1;36m  Cell \u001b[1;32mIn[10], line 2\u001b[1;36m\u001b[0m\n\u001b[1;33m    mystr = \"My favourite TV Series is \"Game of Thrones\"\"\u001b[0m\n\u001b[1;37m                                        ^\u001b[0m\n\u001b[1;31mSyntaxError\u001b[0m\u001b[1;31m:\u001b[0m invalid syntax\n"
     ]
    }
   ],
   "source": [
    "#Using double quotes in the string is not allowed.\n",
    "mystr = \"My favourite TV Series is \"Game of Thrones\"\""
   ]
  },
  {
   "cell_type": "code",
   "execution_count": 14,
   "id": "d11b666d-64f5-4c01-af5d-ce2724c0739f",
   "metadata": {},
   "outputs": [
    {
     "name": "stdout",
     "output_type": "stream",
     "text": [
      "My favourite series is \"Game of Thrones\"\n"
     ]
    }
   ],
   "source": [
    "#Using escape character to allow illegal characters \n",
    "mystr = \"My favourite series is \\\"Game of Thrones\\\"\" \n",
    "print(mystr)"
   ]
  },
  {
   "cell_type": "code",
   "execution_count": null,
   "id": "d7ce8022-e96e-4cd6-98af-c90b5302576b",
   "metadata": {},
   "outputs": [],
   "source": []
  }
 ],
 "metadata": {
  "kernelspec": {
   "display_name": "Python [conda env:base] *",
   "language": "python",
   "name": "conda-base-py"
  },
  "language_info": {
   "codemirror_mode": {
    "name": "ipython",
    "version": 3
   },
   "file_extension": ".py",
   "mimetype": "text/x-python",
   "name": "python",
   "nbconvert_exporter": "python",
   "pygments_lexer": "ipython3",
   "version": "3.12.3"
  }
 },
 "nbformat": 4,
 "nbformat_minor": 5
}

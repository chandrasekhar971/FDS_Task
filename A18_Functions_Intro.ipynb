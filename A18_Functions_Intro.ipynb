{
 "cells": [
  {
   "cell_type": "code",
   "execution_count": 1,
   "id": "93b809ee-8d60-4a9d-9327-f8ad48148c53",
   "metadata": {},
   "outputs": [],
   "source": [
    "def greet():  # define the function hear  \n",
    "    print('good evening') # print the statemnt "
   ]
  },
  {
   "cell_type": "code",
   "execution_count": 3,
   "id": "da7ecc23-d266-4a8a-a996-2419cd58fcdd",
   "metadata": {},
   "outputs": [
    {
     "name": "stdout",
     "output_type": "stream",
     "text": [
      "good evening\n"
     ]
    }
   ],
   "source": [
    "def greet():\n",
    "    print('good evening')\n",
    "greet()"
   ]
  },
  {
   "cell_type": "code",
   "execution_count": 5,
   "id": "3c6b2b8a-72dd-4219-9fe3-083c986184be",
   "metadata": {},
   "outputs": [
    {
     "name": "stdout",
     "output_type": "stream",
     "text": [
      "good evening\n",
      "good evening\n",
      "good evening\n"
     ]
    }
   ],
   "source": [
    "def greet():\n",
    "    print('good evening')\n",
    "greet()\n",
    "\n",
    "def greet():\n",
    "    print('good evening')\n",
    "greet()\n",
    "\n",
    "def greet():\n",
    "    print('good evening')\n",
    "greet()"
   ]
  },
  {
   "cell_type": "code",
   "execution_count": 7,
   "id": "4e4e93c3-c76d-40b6-b436-878461669485",
   "metadata": {},
   "outputs": [
    {
     "name": "stdout",
     "output_type": "stream",
     "text": [
      "good evening\n",
      "\n",
      "good evening\n",
      "good evening\n",
      "good evening\n"
     ]
    }
   ],
   "source": [
    "def greet():\n",
    "    print('good evening')\n",
    "    \n",
    "greet()\n",
    "print()\n",
    "greet()\n",
    "\n",
    "greet()\n",
    "\n",
    "greet()"
   ]
  },
  {
   "cell_type": "code",
   "execution_count": 9,
   "id": "8fb5b0e1-ea42-412d-a843-c9afc41e420b",
   "metadata": {},
   "outputs": [
    {
     "name": "stdout",
     "output_type": "stream",
     "text": [
      "11\n"
     ]
    }
   ],
   "source": [
    "def add(x,y):\n",
    "    c=x+y\n",
    "    print(c)  \n",
    "add(5,6)"
   ]
  },
  {
   "cell_type": "code",
   "execution_count": 11,
   "id": "bf96eb26-d1a2-449c-8a09-e54d1eec980b",
   "metadata": {},
   "outputs": [
    {
     "ename": "TypeError",
     "evalue": "add() takes 2 positional arguments but 3 were given",
     "output_type": "error",
     "traceback": [
      "\u001b[1;31m---------------------------------------------------------------------------\u001b[0m",
      "\u001b[1;31mTypeError\u001b[0m                                 Traceback (most recent call last)",
      "Cell \u001b[1;32mIn[11], line 4\u001b[0m\n\u001b[0;32m      2\u001b[0m     c\u001b[38;5;241m=\u001b[39mx\u001b[38;5;241m+\u001b[39my\n\u001b[0;32m      3\u001b[0m     \u001b[38;5;28mprint\u001b[39m(c)  \n\u001b[1;32m----> 4\u001b[0m add(\u001b[38;5;241m5\u001b[39m,\u001b[38;5;241m6\u001b[39m,\u001b[38;5;241m7\u001b[39m)\n",
      "\u001b[1;31mTypeError\u001b[0m: add() takes 2 positional arguments but 3 were given"
     ]
    }
   ],
   "source": [
    "def add(x,y):\n",
    "    c=x+y\n",
    "    print(c)  \n",
    "add(5,6,7)"
   ]
  },
  {
   "cell_type": "code",
   "execution_count": 13,
   "id": "ba14d418-3651-4022-85a9-882a48162dae",
   "metadata": {},
   "outputs": [
    {
     "name": "stdout",
     "output_type": "stream",
     "text": [
      "good evening\n",
      "\n",
      "11\n"
     ]
    }
   ],
   "source": [
    "def greet():\n",
    "    print('good evening')\n",
    "greet()\n",
    "\n",
    "print()\n",
    "\n",
    "def add(x,y):\n",
    "    c=x+y\n",
    "    print(c)  \n",
    "add(5,6)"
   ]
  },
  {
   "cell_type": "code",
   "execution_count": 15,
   "id": "5f38ac16-71ad-4920-bcea-f1d9eaf9d469",
   "metadata": {},
   "outputs": [
    {
     "name": "stdout",
     "output_type": "stream",
     "text": [
      "good evening\n",
      "11\n"
     ]
    }
   ],
   "source": [
    "def greet():\n",
    "    print('good evening')\n",
    "def add(x,y):\n",
    "    c=x+y\n",
    "    print(c)  \n",
    "\n",
    "greet()\n",
    "add(5,6)"
   ]
  },
  {
   "cell_type": "code",
   "execution_count": 17,
   "id": "5d50a9de-4057-4b91-ae47-35c4767c36f6",
   "metadata": {},
   "outputs": [
    {
     "name": "stdout",
     "output_type": "stream",
     "text": [
      "good evening\n",
      "11\n",
      "-1\n",
      "good evening\n",
      "30\n",
      "-10\n"
     ]
    }
   ],
   "source": [
    "def greet():\n",
    "    print('good evening')\n",
    "def add(x,y):\n",
    "    c=x+y\n",
    "    print(c)  \n",
    "def sub(x,y):\n",
    "    c=x-y\n",
    "    print(c)\n",
    "\n",
    "greet()\n",
    "add(5,6)\n",
    "sub(5,6)\n",
    "\n",
    "greet()\n",
    "add(10,20)\n",
    "sub(10,20)"
   ]
  },
  {
   "cell_type": "code",
   "execution_count": 19,
   "id": "92a8a413-4396-4660-9a5b-6eba75b4704d",
   "metadata": {},
   "outputs": [
    {
     "name": "stdout",
     "output_type": "stream",
     "text": [
      "11\n"
     ]
    }
   ],
   "source": [
    "def add(x,y):\n",
    "    c=x+y\n",
    "    print(c)  \n",
    "add(5,6)"
   ]
  },
  {
   "cell_type": "code",
   "execution_count": 21,
   "id": "692e815f-8344-4800-9efe-f70bffebb684",
   "metadata": {},
   "outputs": [
    {
     "data": {
      "text/plain": [
       "11"
      ]
     },
     "execution_count": 21,
     "metadata": {},
     "output_type": "execute_result"
    }
   ],
   "source": [
    "def add(x,y):\n",
    "    c=x+y\n",
    "    return c  \n",
    "add(5,6)"
   ]
  },
  {
   "cell_type": "code",
   "execution_count": 23,
   "id": "08727cd0-a26a-4afd-8dfc-b31d7accfe7f",
   "metadata": {},
   "outputs": [
    {
     "name": "stdout",
     "output_type": "stream",
     "text": [
      "30\n",
      "10\n"
     ]
    }
   ],
   "source": [
    "def add(x,y):\n",
    "    c=x+y\n",
    "    return c\n",
    "    \n",
    "def sub(x,y):\n",
    "    d=x-y\n",
    "    return d\n",
    "\n",
    "print(add(20,10))\n",
    "print(sub(20,10))"
   ]
  },
  {
   "cell_type": "code",
   "execution_count": 25,
   "id": "9c03667b-16e9-480c-9763-ffea89a789a0",
   "metadata": {},
   "outputs": [
    {
     "name": "stdout",
     "output_type": "stream",
     "text": [
      "30\n",
      "10\n",
      "<class 'int'>\n",
      "<class 'int'>\n"
     ]
    }
   ],
   "source": [
    "def add(x,y):\n",
    "    c=x+y\n",
    "    return c\n",
    "    \n",
    "def sub(x,y):\n",
    "    d=x-y\n",
    "    return d\n",
    "\n",
    "result = add(20,10)\n",
    "result2 = sub(20,10)\n",
    "\n",
    "print(result)\n",
    "print(result2)\n",
    "\n",
    "print(type(result))\n",
    "print(type(result2))"
   ]
  },
  {
   "cell_type": "code",
   "execution_count": 27,
   "id": "25f59815-c058-44bd-b50d-5b113ff84269",
   "metadata": {},
   "outputs": [
    {
     "name": "stdout",
     "output_type": "stream",
     "text": [
      "(30, 10)\n",
      "<class 'tuple'>\n"
     ]
    }
   ],
   "source": [
    "def add_sub(x,y): \n",
    "    c = x+y\n",
    "    d = x-y\n",
    "    return c, d \n",
    "\n",
    "result = add_sub(20,10)\n",
    "print(result)\n",
    "print(type(result))"
   ]
  },
  {
   "cell_type": "code",
   "execution_count": 29,
   "id": "e611f45f-d0b4-4a25-a4db-27d90f26f4a6",
   "metadata": {
    "scrolled": true
   },
   "outputs": [
    {
     "name": "stdout",
     "output_type": "stream",
     "text": [
      "30\n",
      "10\n",
      "<class 'int'>\n",
      "<class 'int'>\n"
     ]
    }
   ],
   "source": [
    "def add_sub(x,y): \n",
    "    c = x+y\n",
    "    d = x-y\n",
    "    return c, d \n",
    "\n",
    "result, result2 = add_sub(20,10)\n",
    "\n",
    "print(result)\n",
    "print(result2)\n",
    "print(type(result))\n",
    "print(type(result2))"
   ]
  },
  {
   "cell_type": "markdown",
   "id": "dab6290d-7bb6-4923-ae3d-7a9970da903b",
   "metadata": {},
   "source": [
    "# function argument "
   ]
  },
  {
   "cell_type": "code",
   "execution_count": 32,
   "id": "31ac203a-fe0c-4d4e-9877-61a130d0f6cf",
   "metadata": {},
   "outputs": [
    {
     "name": "stdout",
     "output_type": "stream",
     "text": [
      "8\n"
     ]
    }
   ],
   "source": [
    "def update(): \n",
    "    x = 8\n",
    "    print(x)\n",
    "\n",
    "update()"
   ]
  },
  {
   "cell_type": "code",
   "execution_count": 34,
   "id": "c15a5ad7-8213-4603-b472-e05928fb320b",
   "metadata": {},
   "outputs": [
    {
     "ename": "TypeError",
     "evalue": "update() takes 0 positional arguments but 1 was given",
     "output_type": "error",
     "traceback": [
      "\u001b[1;31m---------------------------------------------------------------------------\u001b[0m",
      "\u001b[1;31mTypeError\u001b[0m                                 Traceback (most recent call last)",
      "Cell \u001b[1;32mIn[34], line 5\u001b[0m\n\u001b[0;32m      2\u001b[0m     x \u001b[38;5;241m=\u001b[39m \u001b[38;5;241m8\u001b[39m\n\u001b[0;32m      3\u001b[0m     \u001b[38;5;28mprint\u001b[39m(x)\n\u001b[1;32m----> 5\u001b[0m update(\u001b[38;5;241m8\u001b[39m)\n",
      "\u001b[1;31mTypeError\u001b[0m: update() takes 0 positional arguments but 1 was given"
     ]
    }
   ],
   "source": [
    "def update(): \n",
    "    x = 8\n",
    "    print(x)\n",
    "\n",
    "update(8)"
   ]
  },
  {
   "cell_type": "code",
   "execution_count": 36,
   "id": "bce1ab11-95c0-4ed6-b9c1-716d41e35b6d",
   "metadata": {},
   "outputs": [
    {
     "data": {
      "text/plain": [
       "8"
      ]
     },
     "execution_count": 36,
     "metadata": {},
     "output_type": "execute_result"
    }
   ],
   "source": [
    "def update(x): #update function take the value from the user\n",
    "    x = 8\n",
    "    return x \n",
    "    \n",
    "update(8)"
   ]
  },
  {
   "cell_type": "code",
   "execution_count": 38,
   "id": "311a3c36-656c-402c-ae9e-2f6243fac5b2",
   "metadata": {},
   "outputs": [
    {
     "data": {
      "text/plain": [
       "8"
      ]
     },
     "execution_count": 38,
     "metadata": {},
     "output_type": "execute_result"
    }
   ],
   "source": [
    "def update(x): \n",
    "    x = 8\n",
    "    return x \n",
    "    \n",
    "update(10)"
   ]
  },
  {
   "cell_type": "code",
   "execution_count": 40,
   "id": "5256c163-fd2d-4294-9ea9-d4ddcc4033e5",
   "metadata": {},
   "outputs": [
    {
     "name": "stdout",
     "output_type": "stream",
     "text": [
      "8\n",
      "10\n"
     ]
    }
   ],
   "source": [
    "def update(x):  \n",
    "    x = 8\n",
    "    return x\n",
    "    \n",
    "a = 10\n",
    "\n",
    "print(update(a))\n",
    "\n",
    "print(a)"
   ]
  },
  {
   "cell_type": "markdown",
   "id": "b4e811ba-392f-4ef0-84a2-0ee264b6fd03",
   "metadata": {},
   "source": [
    "# function without argument - not required any thing\n",
    "# function with argument -- divide into 2 part\n",
    "    - FORMAL ARGUMENT\n",
    "    - ACTUAL ARGUMENT\n",
    "    "
   ]
  },
  {
   "cell_type": "code",
   "execution_count": 43,
   "id": "6eab69b5-9d17-4127-9961-280b3175f69e",
   "metadata": {},
   "outputs": [
    {
     "data": {
      "text/plain": [
       "9"
      ]
     },
     "execution_count": 43,
     "metadata": {},
     "output_type": "execute_result"
    }
   ],
   "source": [
    "def add(x,y): #x & y is called -- FORMAL ARGUMENT \n",
    "    c=x+y\n",
    "    return c\n",
    "\n",
    "add(4,5)  #4 & 5 is called - ACTUAL ARGUMENT"
   ]
  },
  {
   "cell_type": "markdown",
   "id": "7e244311-71e1-4fd8-ac0b-1807f2c63995",
   "metadata": {},
   "source": [
    "# positional argument"
   ]
  },
  {
   "cell_type": "code",
   "execution_count": 46,
   "id": "2902f6dd-3657-4baa-be41-f2ffac082c9d",
   "metadata": {},
   "outputs": [
    {
     "data": {
      "text/plain": [
       "9"
      ]
     },
     "execution_count": 46,
     "metadata": {},
     "output_type": "execute_result"
    }
   ],
   "source": [
    "def add(x,y,z,m,n,o,a,u): #x & y is called -- FORMAL ARGUMENT \n",
    "    c=x+y\n",
    "    return c\n",
    "\n",
    "add(4,5,0,7,4,54,5,68)  #4 & 5 is called - ACTUAL ARGUMENT"
   ]
  },
  {
   "cell_type": "code",
   "execution_count": 54,
   "id": "a01cfdf1-d4dd-466d-8be7-6de5b828e01f",
   "metadata": {},
   "outputs": [
    {
     "name": "stdout",
     "output_type": "stream",
     "text": [
      "sekhar\n",
      "22\n"
     ]
    }
   ],
   "source": [
    "def person(name,age):\n",
    "    print(name)\n",
    "    print(age)\n",
    "    \n",
    "person('sekhar', 22)"
   ]
  },
  {
   "cell_type": "code",
   "execution_count": 56,
   "id": "b90c8dce-635c-4856-b351-6418ead94ae0",
   "metadata": {},
   "outputs": [
    {
     "name": "stdout",
     "output_type": "stream",
     "text": [
      "22\n",
      "sekhar\n"
     ]
    }
   ],
   "source": [
    "def person(name,age):\n",
    "    print(name)\n",
    "    print(age)\n",
    "    \n",
    "person(22, 'sekhar')"
   ]
  },
  {
   "cell_type": "code",
   "execution_count": 63,
   "id": "93cfc9c0-0543-490f-922f-f5f9d84e4d80",
   "metadata": {},
   "outputs": [
    {
     "name": "stdout",
     "output_type": "stream",
     "text": [
      "22\n"
     ]
    },
    {
     "ename": "TypeError",
     "evalue": "can only concatenate str (not \"int\") to str",
     "output_type": "error",
     "traceback": [
      "\u001b[1;31m---------------------------------------------------------------------------\u001b[0m",
      "\u001b[1;31mTypeError\u001b[0m                                 Traceback (most recent call last)",
      "Cell \u001b[1;32mIn[63], line 5\u001b[0m\n\u001b[0;32m      2\u001b[0m     \u001b[38;5;28mprint\u001b[39m(name)\n\u001b[0;32m      3\u001b[0m     \u001b[38;5;28mprint\u001b[39m(age \u001b[38;5;241m+\u001b[39m \u001b[38;5;241m1\u001b[39m)\n\u001b[1;32m----> 5\u001b[0m person(\u001b[38;5;241m22\u001b[39m, \u001b[38;5;124m'\u001b[39m\u001b[38;5;124msekhar\u001b[39m\u001b[38;5;124m'\u001b[39m)\n",
      "Cell \u001b[1;32mIn[63], line 3\u001b[0m, in \u001b[0;36mperson\u001b[1;34m(name, age)\u001b[0m\n\u001b[0;32m      1\u001b[0m \u001b[38;5;28;01mdef\u001b[39;00m \u001b[38;5;21mperson\u001b[39m(name,age):\n\u001b[0;32m      2\u001b[0m     \u001b[38;5;28mprint\u001b[39m(name)\n\u001b[1;32m----> 3\u001b[0m     \u001b[38;5;28mprint\u001b[39m(age \u001b[38;5;241m+\u001b[39m \u001b[38;5;241m1\u001b[39m)\n",
      "\u001b[1;31mTypeError\u001b[0m: can only concatenate str (not \"int\") to str"
     ]
    }
   ],
   "source": [
    "def person(name,age):\n",
    "    print(name)\n",
    "    print(age + 1)\n",
    "    \n",
    "person(22, 'sekhar')"
   ]
  },
  {
   "cell_type": "markdown",
   "id": "96bbce36-1793-4b55-aaec-02bb71a69994",
   "metadata": {},
   "source": [
    "# keyword argument"
   ]
  },
  {
   "cell_type": "code",
   "execution_count": 65,
   "id": "9f6ae603-6f40-4acb-a990-47e6ab710313",
   "metadata": {},
   "outputs": [
    {
     "name": "stdout",
     "output_type": "stream",
     "text": [
      "sekhar\n",
      "23\n"
     ]
    }
   ],
   "source": [
    "def person(name,age):\n",
    "    print(name)\n",
    "    print(age + 1 ) \n",
    "person(age = 22, name = 'sekhar')"
   ]
  },
  {
   "cell_type": "code",
   "execution_count": 67,
   "id": "4f09dc62-c04a-4852-bfe6-4827369c67b6",
   "metadata": {},
   "outputs": [
    {
     "ename": "TypeError",
     "evalue": "person() missing 1 required positional argument: 'salary'",
     "output_type": "error",
     "traceback": [
      "\u001b[1;31m---------------------------------------------------------------------------\u001b[0m",
      "\u001b[1;31mTypeError\u001b[0m                                 Traceback (most recent call last)",
      "Cell \u001b[1;32mIn[67], line 6\u001b[0m\n\u001b[0;32m      3\u001b[0m     \u001b[38;5;28mprint\u001b[39m(age \u001b[38;5;241m+\u001b[39m \u001b[38;5;241m1\u001b[39m ) \n\u001b[0;32m      4\u001b[0m     \u001b[38;5;28mprint\u001b[39m(\u001b[38;5;124m'\u001b[39m\u001b[38;5;124msir job chalagya\u001b[39m\u001b[38;5;124m'\u001b[39m)\n\u001b[1;32m----> 6\u001b[0m person(age \u001b[38;5;241m=\u001b[39m \u001b[38;5;241m22\u001b[39m, name \u001b[38;5;241m=\u001b[39m \u001b[38;5;124m'\u001b[39m\u001b[38;5;124msekhar\u001b[39m\u001b[38;5;124m'\u001b[39m)\n",
      "\u001b[1;31mTypeError\u001b[0m: person() missing 1 required positional argument: 'salary'"
     ]
    }
   ],
   "source": [
    "def person(name,age,salary):\n",
    "    print(name)\n",
    "    print(age + 1 ) \n",
    "    print('sir job chalagya')\n",
    "    \n",
    "person(age = 22, name = 'sekhar')"
   ]
  },
  {
   "cell_type": "markdown",
   "id": "cb6a61f4-9396-4922-bdbe-fbb2a05092d0",
   "metadata": {},
   "source": [
    "# default argument"
   ]
  },
  {
   "cell_type": "code",
   "execution_count": 69,
   "id": "47d481bd-f688-4f56-90a7-ad78bb678883",
   "metadata": {},
   "outputs": [
    {
     "name": "stdout",
     "output_type": "stream",
     "text": [
      "sekhar\n",
      "20\n",
      "21\n"
     ]
    }
   ],
   "source": [
    "def person(name, age, age2):\n",
    "    print(name)\n",
    "    print(age)\n",
    "    print(age2)\n",
    "    \n",
    "person(age = 20,  name = 'sekhar', age2 = 21) \n",
    "\n",
    "#this is called keyword arguments"
   ]
  },
  {
   "cell_type": "code",
   "execution_count": 71,
   "id": "e6d9062d-f059-445e-9a61-2f7a9a3902be",
   "metadata": {},
   "outputs": [
    {
     "ename": "TypeError",
     "evalue": "person() missing 1 required positional argument: 'age'",
     "output_type": "error",
     "traceback": [
      "\u001b[1;31m---------------------------------------------------------------------------\u001b[0m",
      "\u001b[1;31mTypeError\u001b[0m                                 Traceback (most recent call last)",
      "Cell \u001b[1;32mIn[71], line 5\u001b[0m\n\u001b[0;32m      2\u001b[0m     \u001b[38;5;28mprint\u001b[39m(name)\n\u001b[0;32m      3\u001b[0m     \u001b[38;5;28mprint\u001b[39m(age)\n\u001b[1;32m----> 5\u001b[0m person(\u001b[38;5;124m'\u001b[39m\u001b[38;5;124msekhar\u001b[39m\u001b[38;5;124m'\u001b[39m)\n",
      "\u001b[1;31mTypeError\u001b[0m: person() missing 1 required positional argument: 'age'"
     ]
    }
   ],
   "source": [
    "def person(name,age):\n",
    "    print(name)\n",
    "    print(age)\n",
    "    \n",
    "person('sekhar') "
   ]
  },
  {
   "cell_type": "code",
   "execution_count": 73,
   "id": "254094ad-b983-4605-b0e1-99ebe9e4c02c",
   "metadata": {},
   "outputs": [
    {
     "name": "stdout",
     "output_type": "stream",
     "text": [
      "sekhar\n",
      "18\n"
     ]
    }
   ],
   "source": [
    "def person(name,age=18):\n",
    "    print(name)\n",
    "    print(age)\n",
    "    \n",
    "person('sekhar') "
   ]
  },
  {
   "cell_type": "code",
   "execution_count": 75,
   "id": "8737d5c2-077e-43af-8190-d0fd11591360",
   "metadata": {},
   "outputs": [
    {
     "name": "stdout",
     "output_type": "stream",
     "text": [
      "sekhar\n",
      "40\n"
     ]
    }
   ],
   "source": [
    "def person(name, age=18):\n",
    "    print(name)\n",
    "    print(age)\n",
    "    \n",
    "person('sekhar',age= 40) "
   ]
  },
  {
   "cell_type": "code",
   "execution_count": null,
   "id": "c119c11d-5988-4c9b-9bcd-d6ad8ace16b3",
   "metadata": {},
   "outputs": [],
   "source": []
  }
 ],
 "metadata": {
  "kernelspec": {
   "display_name": "Python [conda env:base] *",
   "language": "python",
   "name": "conda-base-py"
  },
  "language_info": {
   "codemirror_mode": {
    "name": "ipython",
    "version": 3
   },
   "file_extension": ".py",
   "mimetype": "text/x-python",
   "name": "python",
   "nbconvert_exporter": "python",
   "pygments_lexer": "ipython3",
   "version": "3.12.3"
  }
 },
 "nbformat": 4,
 "nbformat_minor": 5
}

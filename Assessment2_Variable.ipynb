{
 "cells": [
  {
   "cell_type": "markdown",
   "id": "8b9bf0e3-be2a-43fb-9190-2ea07ca36324",
   "metadata": {},
   "source": [
    "## Python Variables:\n",
    "#### ---------------------------\n",
    "#### --> Variables in Python are containers used to store data values. \n",
    "#### --> Python is a dynamically typed language, meaning you do not need to declare the data type of a variable. \n",
    "#### --> The data type is automatically inferred based on the value assigned to the variable.\n",
    "#### --> Python allows you to reassign variables with different data types during the program execution.\n"
   ]
  },
  {
   "cell_type": "markdown",
   "id": "ac5b7630-aee9-4b2a-971e-22448c877bd7",
   "metadata": {},
   "source": [
    "##### 1. Declaring Variables:\n",
    "##### -----------------------\n",
    "##### In Python, you can declare a variable simply by assigning a value to it. You do not need to explicitly declare the data type.\n",
    "\n",
    "#### Syntax:\n",
    "#### Variable_name = value\n"
   ]
  },
  {
   "cell_type": "code",
   "execution_count": 15,
   "id": "5485e203-4574-43d0-8036-7de4327ce17e",
   "metadata": {},
   "outputs": [
    {
     "data": {
      "text/plain": [
       "25"
      ]
     },
     "execution_count": 15,
     "metadata": {},
     "output_type": "execute_result"
    }
   ],
   "source": [
    "age_in_numeric = 25    # Here, ‘age_in_numeric’ is an integer variable, and ’25’ is its value.\n",
    "age_in_numeric"
   ]
  },
  {
   "cell_type": "code",
   "execution_count": 17,
   "id": "c78cb559-a271-45ed-a261-bd89732883b0",
   "metadata": {},
   "outputs": [
    {
     "data": {
      "text/plain": [
       "'Twenty-Five'"
      ]
     },
     "execution_count": 17,
     "metadata": {},
     "output_type": "execute_result"
    }
   ],
   "source": [
    "age_in_words = 'Twenty-Five' # Here, 'age_in_words' is a string variable, and ‘Twenty-five’ is its value.\n",
    "age_in_words"
   ]
  },
  {
   "cell_type": "markdown",
   "id": "0933e90b-025b-4789-b173-60b5720ceb17",
   "metadata": {},
   "source": [
    "Inteview Questions:\n",
    "===================\n",
    "<pre> 1.What are the Python variables?\n",
    "    Variables store data in Python.\n",
    "\n",
    "2.What type is a variable in Python?\n",
    "  The type of a variable depends on the value it holds.\n",
    "\n",
    "3.What are the three variables in Python?\n",
    "  Three types: instance, class, and local variables.\n",
    "\n",
    "4.What are the different data types in Python?\n",
    "  Python’s data types include integers, floats, strings, lists, tuples, dictionaries, sets, and booleans.\n",
    "\n",
    "5.What is self in Python?\n",
    "  self refers to the instance of a class.\n",
    "\n",
    "6.What are the 4 types of variables in Python?\n",
    "  Four types: local, instance, class, and global variables.\n",
    "\n",
    "7.What are the four rules for Python variables?\n",
    "  Variables must start with a letter/underscore, contain letters, numbers, \n",
    "  or underscores, be case-sensitive, and not be keywords.\n",
    "\n",
    "8.What are the 3 components of a variable in Python?\n",
    "  A variable has a name, value, and type.\n",
    "\n",
    "9.What is a variable in Python with example?\n",
    "  A variable stores data, e.g., x = 5 (where x is the variable).\n",
    "\n",
    "10.What is an example of a variable name in Python?\n",
    "   Example: age, height, user_name. <pre>\n"
   ]
  },
  {
   "cell_type": "markdown",
   "id": "ba6f4873-6b75-458e-b47c-e91b2623110a",
   "metadata": {},
   "source": [
    "##### ***************************  thank you   ***********************"
   ]
  }
 ],
 "metadata": {
  "kernelspec": {
   "display_name": "Python [conda env:base] *",
   "language": "python",
   "name": "conda-base-py"
  },
  "language_info": {
   "codemirror_mode": {
    "name": "ipython",
    "version": 3
   },
   "file_extension": ".py",
   "mimetype": "text/x-python",
   "name": "python",
   "nbconvert_exporter": "python",
   "pygments_lexer": "ipython3",
   "version": "3.12.3"
  }
 },
 "nbformat": 4,
 "nbformat_minor": 5
}

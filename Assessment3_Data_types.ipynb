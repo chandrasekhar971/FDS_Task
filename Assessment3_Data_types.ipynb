{
 "cells": [
  {
   "cell_type": "markdown",
   "id": "96f6aad8-3282-4c7c-ab0f-d491c4cfe146",
   "metadata": {},
   "source": [
    "Python Data Types:\n",
    "==================\n",
    "<pre>\n",
    "In Python, data types are used to classify the type of data that a variable holds. Since Python is a dynamically typed language, \n",
    "you don’t need to specify the type of a variable explicitly. Python automatically assigns the appropriate type based on the value \n",
    "you assign to the variable. Understanding data types is essential for writing effective Python code.\n",
    "\n",
    "commonly used Data types:\n",
    "------------------------ \n",
    "Data Type\t       What it holds\t               Example\t                           Precision\n",
    "----------         --------------                -----------------             ----------------------------\n",
    "int\t                Whole numbers\t               x = 10\t              Precision depends on the system’s memory\n",
    "float\t            Numbers with decimals\t       y = 10.5\t              Up to 15-17 decimal places (machine-dependent)\n",
    "str\t                Text(strings of char)\t       name = “Alice”\t      Determined by the number of characters\n",
    "bool\t            Boolean values(True/False)\t   is_active = True\t      1-bit (True or False)\n",
    "None\t        Represents the absence of value\t   result = None\t      No precision (represents null or no value)\n",
    "\n",
    "</pre>"
   ]
  },
  {
   "cell_type": "code",
   "execution_count": 9,
   "id": "4636c955-a892-4828-9ea1-d2b0f9117fa0",
   "metadata": {},
   "outputs": [
    {
     "name": "stdout",
     "output_type": "stream",
     "text": [
      "25\n"
     ]
    }
   ],
   "source": [
    "# 1. int (Integer): Represents whole numbers without a decimal.\n",
    "\n",
    "age = 25                 #here age is variable name and 25 is integer value of this variable\n",
    "print(age)               #python dynamically decides the datatype of a variable based on #value"
   ]
  },
  {
   "cell_type": "code",
   "execution_count": 11,
   "id": "9ed057c2-1b07-492d-8eef-1efa04679372",
   "metadata": {},
   "outputs": [
    {
     "name": "stdout",
     "output_type": "stream",
     "text": [
      "<class 'int'>\n"
     ]
    }
   ],
   "source": [
    "print(type(age))"
   ]
  },
  {
   "cell_type": "code",
   "execution_count": 13,
   "id": "5bef2f37-6e5d-4091-b4e9-930780852312",
   "metadata": {},
   "outputs": [
    {
     "name": "stdout",
     "output_type": "stream",
     "text": [
      "55.5\n"
     ]
    }
   ],
   "source": [
    "# 2. float (Floating-point): Represents numbers with a decimal point.\n",
    "\n",
    "weight = 55.5    #here weight is variable and 55.5 is float value of this variable\n",
    "\n",
    "print(weight)"
   ]
  },
  {
   "cell_type": "code",
   "execution_count": 15,
   "id": "237444b2-a710-4ebc-a1d8-1034e4ce9430",
   "metadata": {},
   "outputs": [
    {
     "name": "stdout",
     "output_type": "stream",
     "text": [
      "<class 'float'>\n"
     ]
    }
   ],
   "source": [
    "print(type(weight))"
   ]
  },
  {
   "cell_type": "code",
   "execution_count": 17,
   "id": "bbb3c993-a25b-4c39-ad85-c129c9993508",
   "metadata": {},
   "outputs": [
    {
     "name": "stdout",
     "output_type": "stream",
     "text": [
      "Chandra\n"
     ]
    }
   ],
   "source": [
    "# 3. str (String): Represents sequences of characters enclosed in quotes.\n",
    "\n",
    "name = 'Chandra'   #here name is variable and Chandra is string value of this variable\n",
    "\n",
    "print(name)\n"
   ]
  },
  {
   "cell_type": "code",
   "execution_count": 19,
   "id": "36397cc7-9fbd-4b76-94ca-e86da9ea6f6d",
   "metadata": {},
   "outputs": [
    {
     "name": "stdout",
     "output_type": "stream",
     "text": [
      "<class 'str'>\n"
     ]
    }
   ],
   "source": [
    "print(type(name))"
   ]
  },
  {
   "cell_type": "code",
   "execution_count": 21,
   "id": "5a52fbb9-6da4-4343-8f8a-e1c2389dc77c",
   "metadata": {},
   "outputs": [
    {
     "name": "stdout",
     "output_type": "stream",
     "text": [
      "True\n"
     ]
    }
   ],
   "source": [
    "# 4. bool (Boolean): Represents True or False values.\n",
    "\n",
    "is_active = True    #here is_active is variable and True is boolean value of variable\n",
    "\n",
    "print(is_active)\n"
   ]
  },
  {
   "cell_type": "code",
   "execution_count": 23,
   "id": "9e3d71fe-3417-49ca-8f6b-82ea806382fd",
   "metadata": {},
   "outputs": [
    {
     "name": "stdout",
     "output_type": "stream",
     "text": [
      "<class 'bool'>\n"
     ]
    }
   ],
   "source": [
    "print(type(is_active))"
   ]
  },
  {
   "cell_type": "code",
   "execution_count": 25,
   "id": "cffdc9f3-39b6-4faf-b189-5ebf6ae8e07f",
   "metadata": {},
   "outputs": [
    {
     "name": "stdout",
     "output_type": "stream",
     "text": [
      "True\n"
     ]
    }
   ],
   "source": [
    "is_active = 'True'    #here is_active is variable and True is string value of variable\n",
    "print(is_active)\n"
   ]
  },
  {
   "cell_type": "code",
   "execution_count": 27,
   "id": "f2dbaedd-758c-42e0-a397-d622b3128505",
   "metadata": {},
   "outputs": [
    {
     "name": "stdout",
     "output_type": "stream",
     "text": [
      "<class 'str'>\n"
     ]
    }
   ],
   "source": [
    "print(type(is_active))"
   ]
  },
  {
   "cell_type": "code",
   "execution_count": 29,
   "id": "2c9b00b0-5431-4cfb-8af2-5204e871150e",
   "metadata": {},
   "outputs": [
    {
     "name": "stdout",
     "output_type": "stream",
     "text": [
      "None\n"
     ]
    }
   ],
   "source": [
    "# 5. None: Represents the absence of a value or a null value.\n",
    "\n",
    "val = None   #here val is variable name and None is none value of this variable\n",
    "print(val)"
   ]
  },
  {
   "cell_type": "code",
   "execution_count": 31,
   "id": "f1cf9cd0-7c10-4316-8ac6-59d4dbf5b76c",
   "metadata": {},
   "outputs": [
    {
     "name": "stdout",
     "output_type": "stream",
     "text": [
      "<class 'NoneType'>\n"
     ]
    }
   ],
   "source": [
    "print(type(val))"
   ]
  },
  {
   "cell_type": "markdown",
   "id": "6f67447a-324b-4071-a2d8-4c83ecc5720b",
   "metadata": {},
   "source": [
    "Interview Questions:\n",
    "=================\n",
    "<pre>\n",
    "1. What are Python data types?\n",
    "Python data types define the type of values a variable can hold, like integers, strings, etc.\n",
    "\n",
    "2.What are the data types in set in Python?\n",
    "In sets, Python data types can include integers, strings, and more.\n",
    "\n",
    "3.What is Python set data type?\n",
    "A set is an unordered collection of unIque elements.\n",
    "\n",
    "4.What are the different data types in Python?\n",
    "Python’s data types include integers, floats, strings, lists, tuples, dictionaries, sets, and booleans.\n",
    "\n",
    "5What are the four types of data in Python?\n",
    "The four basic types are integers, floats, strings, and booleans.\n",
    "\n",
    "6.What are the different types of data files in Python?\n",
    "Python handles text, CSV, JSON, and binary files.\n",
    "\n",
    "7. What are examples of data types in Python?\n",
    "Examples include int, float, string, list, tuple, and dictionary.\n",
    "\n",
    "8. What is an example of a mutable data type in Python?\n",
    "Lists are mutable, meaning they can be changed.\n",
    "\n",
    "9.What are data types and types?\n",
    "Data types specify the kind of data a variable holds.\n",
    "\n",
    "10.What is type in Python with example?\n",
    "type() returns the data type of an object, like type(5) returning <class ‘int’>.\n",
    "\n",
    "</pre>"
   ]
  },
  {
   "cell_type": "code",
   "execution_count": null,
   "id": "2a4ec25a-63a5-4ad6-a434-da8a36fc8a89",
   "metadata": {},
   "outputs": [],
   "source": []
  }
 ],
 "metadata": {
  "kernelspec": {
   "display_name": "Python [conda env:base] *",
   "language": "python",
   "name": "conda-base-py"
  },
  "language_info": {
   "codemirror_mode": {
    "name": "ipython",
    "version": 3
   },
   "file_extension": ".py",
   "mimetype": "text/x-python",
   "name": "python",
   "nbconvert_exporter": "python",
   "pygments_lexer": "ipython3",
   "version": "3.12.3"
  }
 },
 "nbformat": 4,
 "nbformat_minor": 5
}
